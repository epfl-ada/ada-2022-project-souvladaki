{
 "cells": [
  {
   "cell_type": "markdown",
   "metadata": {},
   "source": [
    "# Initial Analysis - Proposal"
   ]
  },
  {
   "cell_type": "code",
   "execution_count": 2,
   "metadata": {},
   "outputs": [],
   "source": [
    "import pandas as pd\n",
    "import networkx as nx\n",
    "import numpy as np\n",
    "\n",
    "import matplotlib.pyplot as plt\n",
    "from matplotlib import pylab\n"
   ]
  },
  {
   "cell_type": "markdown",
   "metadata": {},
   "source": [
    "## Analyzing the Graph"
   ]
  },
  {
   "cell_type": "markdown",
   "metadata": {},
   "source": [
    "#### Load required data"
   ]
  },
  {
   "cell_type": "code",
   "execution_count": 3,
   "metadata": {},
   "outputs": [],
   "source": [
    "articles = pd.read_table(\"data/graph/articles.tsv\", skiprows=11, names=[\"article\"])\n",
    "\n",
    "categories = pd.read_csv(\n",
    "    \"data/graph/categories.tsv\", skiprows=12, sep=\"\\t\", names=[\"article\", \"category\"]\n",
    ")\n",
    "\n",
    "links = pd.read_csv(\n",
    "    \"data/graph/links.tsv\", skiprows=11, sep=\"\\t\", names=[\"article1\", \"article2\"]\n",
    ")"
   ]
  },
  {
   "cell_type": "markdown",
   "metadata": {},
   "source": [
    "#### Create the graph"
   ]
  },
  {
   "cell_type": "code",
   "execution_count": 4,
   "metadata": {},
   "outputs": [
    {
     "data": {
      "text/html": [
       "<div>\n",
       "<style scoped>\n",
       "    .dataframe tbody tr th:only-of-type {\n",
       "        vertical-align: middle;\n",
       "    }\n",
       "\n",
       "    .dataframe tbody tr th {\n",
       "        vertical-align: top;\n",
       "    }\n",
       "\n",
       "    .dataframe thead th {\n",
       "        text-align: right;\n",
       "    }\n",
       "</style>\n",
       "<table border=\"1\" class=\"dataframe\">\n",
       "  <thead>\n",
       "    <tr style=\"text-align: right;\">\n",
       "      <th></th>\n",
       "      <th>article</th>\n",
       "      <th>category</th>\n",
       "      <th>links</th>\n",
       "      <th>links_count</th>\n",
       "    </tr>\n",
       "  </thead>\n",
       "  <tbody>\n",
       "    <tr>\n",
       "      <th>3385</th>\n",
       "      <td>Pythagorean_theorem</td>\n",
       "      <td>[subject.Mathematics]</td>\n",
       "      <td>[Algebra, British_Isles, Calculus, China, Diff...</td>\n",
       "      <td>16</td>\n",
       "    </tr>\n",
       "    <tr>\n",
       "      <th>1749</th>\n",
       "      <td>Gothenburg</td>\n",
       "      <td>[subject.Geography.European_Geography]</td>\n",
       "      <td>[18th_century, American_football, Athletics_%2...</td>\n",
       "      <td>39</td>\n",
       "    </tr>\n",
       "    <tr>\n",
       "      <th>4196</th>\n",
       "      <td>Treaty_of_Versailles</td>\n",
       "      <td>[subject.History.British_History.British_Histo...</td>\n",
       "      <td>[Adolf_Hitler, Austria, Belgium, China, Denmar...</td>\n",
       "      <td>16</td>\n",
       "    </tr>\n",
       "    <tr>\n",
       "      <th>207</th>\n",
       "      <td>Alternation_of_generations</td>\n",
       "      <td>[subject.Science.Biology.General_Biology]</td>\n",
       "      <td>[Fern, Moss, Plant, Water, Wind]</td>\n",
       "      <td>5</td>\n",
       "    </tr>\n",
       "    <tr>\n",
       "      <th>1395</th>\n",
       "      <td>Environmental_science</td>\n",
       "      <td>[subject.Citizenship.Environment]</td>\n",
       "      <td>[Arthropod, Biodiversity, Biofuel, Biology, Bo...</td>\n",
       "      <td>19</td>\n",
       "    </tr>\n",
       "  </tbody>\n",
       "</table>\n",
       "</div>"
      ],
      "text/plain": [
       "                         article  \\\n",
       "3385         Pythagorean_theorem   \n",
       "1749                  Gothenburg   \n",
       "4196        Treaty_of_Versailles   \n",
       "207   Alternation_of_generations   \n",
       "1395       Environmental_science   \n",
       "\n",
       "                                               category  \\\n",
       "3385                              [subject.Mathematics]   \n",
       "1749             [subject.Geography.European_Geography]   \n",
       "4196  [subject.History.British_History.British_Histo...   \n",
       "207           [subject.Science.Biology.General_Biology]   \n",
       "1395                  [subject.Citizenship.Environment]   \n",
       "\n",
       "                                                  links  links_count  \n",
       "3385  [Algebra, British_Isles, Calculus, China, Diff...           16  \n",
       "1749  [18th_century, American_football, Athletics_%2...           39  \n",
       "4196  [Adolf_Hitler, Austria, Belgium, China, Denmar...           16  \n",
       "207                    [Fern, Moss, Plant, Water, Wind]            5  \n",
       "1395  [Arthropod, Biodiversity, Biofuel, Biology, Bo...           19  "
      ]
     },
     "execution_count": 4,
     "metadata": {},
     "output_type": "execute_result"
    }
   ],
   "source": [
    "wiki_graph = pd.DataFrame(columns=[\"article\", \"category\", \"links\", \"links_count\"])\n",
    "\n",
    "wiki_graph[\"article\"] = articles[\"article\"]\n",
    "\n",
    "wiki_graph[\"links\"] = [list() for x in range(len(wiki_graph.index))]\n",
    "wiki_graph[\"links_count\"] = [0 for x in range(len(wiki_graph.index))]\n",
    "\n",
    "grouped_categories = categories.groupby(\"article\")\n",
    "for entry in grouped_categories:\n",
    "    article_name = entry[0]\n",
    "    cats_df = entry[1][\"category\"]\n",
    "    cats_list = cats_df.values.tolist()\n",
    "\n",
    "    indices = wiki_graph.index[wiki_graph[\"article\"] == article_name].tolist()\n",
    "    for i in indices:\n",
    "        wiki_graph.at[i, \"category\"] = cats_list\n",
    "\n",
    "groyped_links = links.groupby(\"article1\")\n",
    "for entry in groyped_links:\n",
    "    article_name = entry[0]\n",
    "    links_df = entry[1][\"article2\"]\n",
    "    links_list = links_df.values.tolist()\n",
    "\n",
    "    indices = wiki_graph.index[wiki_graph[\"article\"] == article_name].tolist()\n",
    "    for i in indices:\n",
    "        wiki_graph.at[i, \"links\"] = links_list\n",
    "        wiki_graph.at[i, \"links_count\"] = len(links_list)\n",
    "\n",
    "wiki_graph.sample(5)"
   ]
  },
  {
   "cell_type": "code",
   "execution_count": 41,
   "metadata": {},
   "outputs": [
    {
     "name": "stdout",
     "output_type": "stream",
     "text": [
      "True\n",
      "4604\n",
      "4604\n",
      "4\n",
      "RangeIndex(start=0, stop=4604, step=1)\n"
     ]
    }
   ],
   "source": [
    "print(wiki_graph[\"article\"].is_unique)\n",
    "print(len(wiki_graph))\n",
    "print(wiki_graph.shape[0])\n",
    "print(wiki_graph.shape[1])\n",
    "print(wiki_graph.index)"
   ]
  },
  {
   "cell_type": "markdown",
   "metadata": {},
   "source": [
    "#### Links Paragraph Position"
   ]
  },
  {
   "cell_type": "markdown",
   "metadata": {},
   "source": [
    "For each article page, we scrape the html source code to retrieve the links and the paragraph number in which they are placed to create a dictionary of the form:\n",
    "\n",
    "{\"page_name\" : {\"link_page_name_1\" : \"paragraph_number_1\" , link_page_name_2 : paragraph_number_2}}"
   ]
  },
  {
   "cell_type": "code",
   "execution_count": 5,
   "metadata": {},
   "outputs": [
    {
     "name": "stdout",
     "output_type": "stream",
     "text": [
      "./data/graph/wpcd 2/wp/d/Directdebit.htm\n",
      "./data/graph/wpcd 2/wp/d/Donation.htm\n",
      "./data/graph/wpcd 2/wp/f/Friend_Directdebit.htm\n",
      "./data/graph/wpcd 2/wp/s/Sponsorship_Directdebit.htm\n",
      "./data/graph/wpcd 2/wp/w/Wowpurchase.htm\n"
     ]
    }
   ],
   "source": [
    "import os \n",
    "from bs4 import BeautifulSoup\n",
    "import urllib.parse\n",
    "path = './data/graph/wpcd'\n",
    "page_pos_dict = dict()\n",
    "for article_name in wiki_graph['article']:\n",
    "    for root, dirs, files in os.walk(path):\n",
    "        for name in files:\n",
    "            if name == '{}.htm'.format(article_name):\n",
    "                try:\n",
    "                    with open(os.path.join(root, name),encoding = 'utf-8') as file:\n",
    "                        soup = BeautifulSoup(file, 'lxml')\n",
    "                    links_dict = dict()\n",
    "                    for i,p in enumerate(soup.find_all('p')):\n",
    "                        for link in p.find_all('a'):\n",
    "                            link_title = link.get('title')\n",
    "                            if link_title != None and 'jpg' not in link_title and 'png' not in link_title:\n",
    "                                links_dict[urllib.parse.quote(link_title.replace(' ','_'))] = i\n",
    "                    page_pos_dict[article_name] = links_dict\n",
    "                    # wiki_graph.loc[wiki_graph['article'] == article_name, 'links_par_position'] = links_dict\n",
    "                except Exception:\n",
    "                    print(os.path.join(root, name)) #5 pages cause an exception, because html cannot be decoded \n"
   ]
  },
  {
   "cell_type": "code",
   "execution_count": 6,
   "metadata": {},
   "outputs": [],
   "source": [
    "import json\n",
    "with open('page_pos_dict.json', 'w') as outfile:\n",
    "    json.dump(page_pos_dict, outfile) #saving as json as the above cell takes more than 10 minutes to run"
   ]
  },
  {
   "cell_type": "code",
   "execution_count": 42,
   "metadata": {},
   "outputs": [],
   "source": [
    "#shortcut to the above cell for dictionary\n",
    "with open('page_pos_dict.json', 'r') as file:\n",
    "   page_pos_dict = json.load(file)"
   ]
  },
  {
   "cell_type": "code",
   "execution_count": 7,
   "metadata": {},
   "outputs": [],
   "source": [
    "finished_paths = pd.read_csv('./data/graph/paths_finished.tsv', sep='\\t', skiprows=16, header= None)"
   ]
  },
  {
   "cell_type": "code",
   "execution_count": 8,
   "metadata": {},
   "outputs": [],
   "source": [
    "paths = []\n",
    "for path in finished_paths[3]:\n",
    "    if '<' not in path: #removing backtracks\n",
    "        path = path.split(';')\n",
    "        for i in range(len(path)-1):\n",
    "            paths.append(path)\n"
   ]
  },
  {
   "cell_type": "markdown",
   "metadata": {},
   "source": [
    "For each click of the players, we store the paragraph number of the chosen link and the average paragraph number of all the links in the page"
   ]
  },
  {
   "cell_type": "code",
   "execution_count": 28,
   "metadata": {},
   "outputs": [],
   "source": [
    "chosen_pars = []\n",
    "avg_pars = []\n",
    "for path in paths:\n",
    "        for i, article in enumerate(path):\n",
    "            if i < len(path) - 1:\n",
    "                source = article\n",
    "                target = path[i+1]\n",
    "                if target in page_pos_dict[source].keys(): #some links are missing from the dictionary, around 10%, these are the links that are not inside paragraph elements in html \n",
    "                    par_chosen = page_pos_dict[source][target]\n",
    "                    avg_par = sum(page_pos_dict[source].values()) / len(page_pos_dict[source])\n",
    "                    chosen_pars.append(par_chosen)\n",
    "                    avg_pars.append(avg_par)\n"
   ]
  },
  {
   "cell_type": "markdown",
   "metadata": {},
   "source": [
    "Histograms comparing the average paragraphs of the links versus the paragraphs of the links chosen by the players"
   ]
  },
  {
   "cell_type": "code",
   "execution_count": 39,
   "metadata": {},
   "outputs": [
    {
     "data": {
      "text/plain": [
       "(array([3.22439e+05, 3.49209e+05, 1.92729e+05, 8.87130e+04, 2.14330e+04,\n",
       "        5.10950e+04, 9.06000e+03, 8.07000e+02, 9.68700e+03, 2.40000e+01]),\n",
       " array([  0.        ,  18.10666667,  36.21333333,  54.32      ,\n",
       "         72.42666667,  90.53333333, 108.64      , 126.74666667,\n",
       "        144.85333333, 162.96      , 181.06666667]),\n",
       " <BarContainer object of 10 artists>)"
      ]
     },
     "execution_count": 39,
     "metadata": {},
     "output_type": "execute_result"
    },
    {
     "data": {
      "image/png": "[encoded data removed]",
      "text/plain": [
       "<Figure size 640x480 with 1 Axes>"
      ]
     },
     "metadata": {},
     "output_type": "display_data"
    }
   ],
   "source": [
    "plt.hist(avg_pars)"
   ]
  },
  {
   "cell_type": "code",
   "execution_count": 40,
   "metadata": {},
   "outputs": [
    {
     "data": {
      "text/plain": [
       "(array([6.99144e+05, 2.15282e+05, 8.56970e+04, 2.88400e+04, 8.42600e+03,\n",
       "        5.32500e+03, 7.33000e+02, 1.22800e+03, 5.08000e+02, 1.30000e+01]),\n",
       " array([  0.,  34.,  68., 102., 136., 170., 204., 238., 272., 306., 340.]),\n",
       " <BarContainer object of 10 artists>)"
      ]
     },
     "execution_count": 40,
     "metadata": {},
     "output_type": "execute_result"
    },
    {
     "data": {
      "image/png": "[encoded data removed]",
      "text/plain": [
       "<Figure size 640x480 with 1 Axes>"
      ]
     },
     "metadata": {},
     "output_type": "display_data"
    }
   ],
   "source": [
    "plt.hist(chosen_pars)"
   ]
  },
  {
   "cell_type": "code",
   "execution_count": 36,
   "metadata": {},
   "outputs": [
    {
     "data": {
      "text/plain": [
       "Ttest_indResult(statistic=-108.12216514780872, pvalue=0.0)"
      ]
     },
     "execution_count": 36,
     "metadata": {},
     "output_type": "execute_result"
    }
   ],
   "source": [
    "from scipy import stats\n",
    "stats.ttest_ind(chosen_pars,avg_pars)"
   ]
  },
  {
   "cell_type": "markdown",
   "metadata": {},
   "source": [
    "#### Visualizations"
   ]
  },
  {
   "cell_type": "code",
   "execution_count": 43,
   "metadata": {},
   "outputs": [
    {
     "data": {
      "image/png": "[encoded data removed]",
      "text/plain": [
       "<Figure size 640x480 with 1 Axes>"
      ]
     },
     "metadata": {},
     "output_type": "display_data"
    }
   ],
   "source": [
    "links_counts = wiki_graph[\"links_count\"].values\n",
    "\n",
    "plt.hist(links_counts, bins=100)\n",
    "plt.title(\"Distribution of the total number of links per article\")\n",
    "plt.xlabel(\"Links\")\n",
    "plt.ylabel(\"Articles\")\n",
    "plt.show()"
   ]
  },
  {
   "cell_type": "code",
   "execution_count": 44,
   "metadata": {},
   "outputs": [
    {
     "name": "stdout",
     "output_type": "stream",
     "text": [
      "                                    article\n",
      "category                                   \n",
      "subject.Art.Art                          36\n",
      "subject.Art.Artists                       2\n",
      "subject.Business_Studies.Business        28\n",
      "subject.Business_Studies.Companies       18\n",
      "subject.Business_Studies.Currency        14\n"
     ]
    },
    {
     "data": {
      "image/png": "[encoded data removed]",
      "text/plain": [
       "<Figure size 640x480 with 1 Axes>"
      ]
     },
     "metadata": {},
     "output_type": "display_data"
    }
   ],
   "source": [
    "groups = categories.groupby(\"category\").count()\n",
    "\n",
    "print(groups.head())\n",
    "\n",
    "labels = list(groups.index)\n",
    "values = list(groups[\"article\"])\n",
    "\n",
    "X_axis = np.arange(len(labels))\n",
    "\n",
    "plt.rcParams[\"font.size\"] = \"3\"\n",
    "\n",
    "plt.xticks(rotation=90)\n",
    "plt.bar(labels, values)\n",
    "plt.show()"
   ]
  },
  {
   "cell_type": "code",
   "execution_count": 45,
   "metadata": {},
   "outputs": [],
   "source": [
    "def sort_dict_by_value(dict):\n",
    "    return sorted(dict.items(), key=lambda x: x[1], reverse=True)\n"
   ]
  },
  {
   "cell_type": "code",
   "execution_count": 73,
   "metadata": {},
   "outputs": [
    {
     "data": {
      "text/html": [
       "<div>\n",
       "<style scoped>\n",
       "    .dataframe tbody tr th:only-of-type {\n",
       "        vertical-align: middle;\n",
       "    }\n",
       "\n",
       "    .dataframe tbody tr th {\n",
       "        vertical-align: top;\n",
       "    }\n",
       "\n",
       "    .dataframe thead th {\n",
       "        text-align: right;\n",
       "    }\n",
       "</style>\n",
       "<table border=\"1\" class=\"dataframe\">\n",
       "  <thead>\n",
       "    <tr style=\"text-align: right;\">\n",
       "      <th></th>\n",
       "      <th>article</th>\n",
       "    </tr>\n",
       "  </thead>\n",
       "  <tbody>\n",
       "    <tr>\n",
       "      <th>441</th>\n",
       "      <td>Badugi</td>\n",
       "    </tr>\n",
       "  </tbody>\n",
       "</table>\n",
       "</div>"
      ],
      "text/plain": [
       "    article\n",
       "441  Badugi"
      ]
     },
     "execution_count": 73,
     "metadata": {},
     "output_type": "execute_result"
    }
   ],
   "source": [
    "wiki_graph[wiki_graph[\"article\"] == \"Badugi\"]\n",
    "articles[articles[\"article\"] == \"Badugi\"]"
   ]
  },
  {
   "cell_type": "code",
   "execution_count": 69,
   "metadata": {},
   "outputs": [
    {
     "name": "stdout",
     "output_type": "stream",
     "text": [
      "Badugi\n",
      "??\n",
      "2684\n",
      "11673\n",
      "442\n"
     ]
    },
    {
     "ename": "KeyboardInterrupt",
     "evalue": "",
     "output_type": "error",
     "traceback": [
      "\u001b[0;31m---------------------------------------------------------------------------\u001b[0m",
      "\u001b[0;31mKeyboardInterrupt\u001b[0m                         Traceback (most recent call last)",
      "Cell \u001b[0;32mIn [69], line 20\u001b[0m\n\u001b[1;32m     17\u001b[0m \u001b[39mprint\u001b[39m(G\u001b[39m.\u001b[39mnumber_of_edges())\n\u001b[1;32m     18\u001b[0m \u001b[39mprint\u001b[39m(counter)\n\u001b[0;32m---> 20\u001b[0m nx\u001b[39m.\u001b[39;49mdraw(G, with_labels\u001b[39m=\u001b[39;49m\u001b[39mFalse\u001b[39;49;00m, node_size\u001b[39m=\u001b[39;49m\u001b[39m0.1\u001b[39;49m)\n\u001b[1;32m     21\u001b[0m plt\u001b[39m.\u001b[39mdraw()\n\u001b[1;32m     22\u001b[0m plt\u001b[39m.\u001b[39msavefig(\u001b[39m\"\u001b[39m\u001b[39mwikispeedia_graph.pdf\u001b[39m\u001b[39m\"\u001b[39m)\n",
      "File \u001b[0;32m/opt/homebrew/lib/python3.10/site-packages/networkx/drawing/nx_pylab.py:121\u001b[0m, in \u001b[0;36mdraw\u001b[0;34m(G, pos, ax, **kwds)\u001b[0m\n\u001b[1;32m    118\u001b[0m \u001b[39mif\u001b[39;00m \u001b[39m\"\u001b[39m\u001b[39mwith_labels\u001b[39m\u001b[39m\"\u001b[39m \u001b[39mnot\u001b[39;00m \u001b[39min\u001b[39;00m kwds:\n\u001b[1;32m    119\u001b[0m     kwds[\u001b[39m\"\u001b[39m\u001b[39mwith_labels\u001b[39m\u001b[39m\"\u001b[39m] \u001b[39m=\u001b[39m \u001b[39m\"\u001b[39m\u001b[39mlabels\u001b[39m\u001b[39m\"\u001b[39m \u001b[39min\u001b[39;00m kwds\n\u001b[0;32m--> 121\u001b[0m draw_networkx(G, pos\u001b[39m=\u001b[39;49mpos, ax\u001b[39m=\u001b[39;49max, \u001b[39m*\u001b[39;49m\u001b[39m*\u001b[39;49mkwds)\n\u001b[1;32m    122\u001b[0m ax\u001b[39m.\u001b[39mset_axis_off()\n\u001b[1;32m    123\u001b[0m plt\u001b[39m.\u001b[39mdraw_if_interactive()\n",
      "File \u001b[0;32m/opt/homebrew/lib/python3.10/site-packages/networkx/drawing/nx_pylab.py:301\u001b[0m, in \u001b[0;36mdraw_networkx\u001b[0;34m(G, pos, arrows, with_labels, **kwds)\u001b[0m\n\u001b[1;32m    298\u001b[0m label_kwds \u001b[39m=\u001b[39m {k: v \u001b[39mfor\u001b[39;00m k, v \u001b[39min\u001b[39;00m kwds\u001b[39m.\u001b[39mitems() \u001b[39mif\u001b[39;00m k \u001b[39min\u001b[39;00m valid_label_kwds}\n\u001b[1;32m    300\u001b[0m \u001b[39mif\u001b[39;00m pos \u001b[39mis\u001b[39;00m \u001b[39mNone\u001b[39;00m:\n\u001b[0;32m--> 301\u001b[0m     pos \u001b[39m=\u001b[39m nx\u001b[39m.\u001b[39;49mdrawing\u001b[39m.\u001b[39;49mspring_layout(G)  \u001b[39m# default to spring layout\u001b[39;00m\n\u001b[1;32m    303\u001b[0m draw_networkx_nodes(G, pos, \u001b[39m*\u001b[39m\u001b[39m*\u001b[39mnode_kwds)\n\u001b[1;32m    304\u001b[0m draw_networkx_edges(G, pos, arrows\u001b[39m=\u001b[39marrows, \u001b[39m*\u001b[39m\u001b[39m*\u001b[39medge_kwds)\n",
      "File \u001b[0;32m<class 'networkx.utils.decorators.argmap'> compilation 4:4\u001b[0m, in \u001b[0;36margmap_spring_layout_1\u001b[0;34m(G, k, pos, fixed, iterations, threshold, weight, scale, center, dim, seed)\u001b[0m\n\u001b[1;32m      2\u001b[0m \u001b[39mimport\u001b[39;00m \u001b[39mcollections\u001b[39;00m\n\u001b[1;32m      3\u001b[0m \u001b[39mimport\u001b[39;00m \u001b[39mgzip\u001b[39;00m\n\u001b[0;32m----> 4\u001b[0m \u001b[39mimport\u001b[39;00m \u001b[39minspect\u001b[39;00m\n\u001b[1;32m      5\u001b[0m \u001b[39mimport\u001b[39;00m \u001b[39mitertools\u001b[39;00m\n\u001b[1;32m      6\u001b[0m \u001b[39mimport\u001b[39;00m \u001b[39mre\u001b[39;00m\n",
      "File \u001b[0;32m/opt/homebrew/lib/python3.10/site-packages/networkx/drawing/layout.py:481\u001b[0m, in \u001b[0;36mspring_layout\u001b[0;34m(G, k, pos, fixed, iterations, threshold, weight, scale, center, dim, seed)\u001b[0m\n\u001b[1;32m    479\u001b[0m         nnodes, _ \u001b[39m=\u001b[39m A\u001b[39m.\u001b[39mshape\n\u001b[1;32m    480\u001b[0m         k \u001b[39m=\u001b[39m dom_size \u001b[39m/\u001b[39m np\u001b[39m.\u001b[39msqrt(nnodes)\n\u001b[0;32m--> 481\u001b[0m     pos \u001b[39m=\u001b[39m _sparse_fruchterman_reingold(\n\u001b[1;32m    482\u001b[0m         A, k, pos_arr, fixed, iterations, threshold, dim, seed\n\u001b[1;32m    483\u001b[0m     )\n\u001b[1;32m    484\u001b[0m \u001b[39mexcept\u001b[39;00m \u001b[39mValueError\u001b[39;00m:\n\u001b[1;32m    485\u001b[0m     A \u001b[39m=\u001b[39m nx\u001b[39m.\u001b[39mto_numpy_array(G, weight\u001b[39m=\u001b[39mweight)\n",
      "File \u001b[0;32m<class 'networkx.utils.decorators.argmap'> compilation 8:4\u001b[0m, in \u001b[0;36margmap__sparse_fruchterman_reingold_5\u001b[0;34m(A, k, pos, fixed, iterations, threshold, dim, seed)\u001b[0m\n\u001b[1;32m      2\u001b[0m \u001b[39mimport\u001b[39;00m \u001b[39mcollections\u001b[39;00m\n\u001b[1;32m      3\u001b[0m \u001b[39mimport\u001b[39;00m \u001b[39mgzip\u001b[39;00m\n\u001b[0;32m----> 4\u001b[0m \u001b[39mimport\u001b[39;00m \u001b[39minspect\u001b[39;00m\n\u001b[1;32m      5\u001b[0m \u001b[39mimport\u001b[39;00m \u001b[39mitertools\u001b[39;00m\n\u001b[1;32m      6\u001b[0m \u001b[39mimport\u001b[39;00m \u001b[39mre\u001b[39;00m\n",
      "File \u001b[0;32m/opt/homebrew/lib/python3.10/site-packages/networkx/drawing/layout.py:617\u001b[0m, in \u001b[0;36m_sparse_fruchterman_reingold\u001b[0;34m(A, k, pos, fixed, iterations, threshold, dim, seed)\u001b[0m\n\u001b[1;32m    615\u001b[0m delta \u001b[39m=\u001b[39m (pos[i] \u001b[39m-\u001b[39m pos)\u001b[39m.\u001b[39mT\n\u001b[1;32m    616\u001b[0m \u001b[39m# distance between points\u001b[39;00m\n\u001b[0;32m--> 617\u001b[0m distance \u001b[39m=\u001b[39m np\u001b[39m.\u001b[39msqrt((delta\u001b[39m*\u001b[39;49m\u001b[39m*\u001b[39;49m\u001b[39m2\u001b[39;49m)\u001b[39m.\u001b[39;49msum(axis\u001b[39m=\u001b[39;49m\u001b[39m0\u001b[39;49m))\n\u001b[1;32m    618\u001b[0m \u001b[39m# enforce minimum distance of 0.01\u001b[39;00m\n\u001b[1;32m    619\u001b[0m distance \u001b[39m=\u001b[39m np\u001b[39m.\u001b[39mwhere(distance \u001b[39m<\u001b[39m \u001b[39m0.01\u001b[39m, \u001b[39m0.01\u001b[39m, distance)\n",
      "File \u001b[0;32m/opt/homebrew/lib/python3.10/site-packages/numpy/core/_methods.py:46\u001b[0m, in \u001b[0;36m_sum\u001b[0;34m(a, axis, dtype, out, keepdims, initial, where)\u001b[0m\n\u001b[1;32m     42\u001b[0m \u001b[39mdef\u001b[39;00m \u001b[39m_amin\u001b[39m(a, axis\u001b[39m=\u001b[39m\u001b[39mNone\u001b[39;00m, out\u001b[39m=\u001b[39m\u001b[39mNone\u001b[39;00m, keepdims\u001b[39m=\u001b[39m\u001b[39mFalse\u001b[39;00m,\n\u001b[1;32m     43\u001b[0m           initial\u001b[39m=\u001b[39m_NoValue, where\u001b[39m=\u001b[39m\u001b[39mTrue\u001b[39;00m):\n\u001b[1;32m     44\u001b[0m     \u001b[39mreturn\u001b[39;00m umr_minimum(a, axis, \u001b[39mNone\u001b[39;00m, out, keepdims, initial, where)\n\u001b[0;32m---> 46\u001b[0m \u001b[39mdef\u001b[39;00m \u001b[39m_sum\u001b[39m(a, axis\u001b[39m=\u001b[39m\u001b[39mNone\u001b[39;00m, dtype\u001b[39m=\u001b[39m\u001b[39mNone\u001b[39;00m, out\u001b[39m=\u001b[39m\u001b[39mNone\u001b[39;00m, keepdims\u001b[39m=\u001b[39m\u001b[39mFalse\u001b[39;00m,\n\u001b[1;32m     47\u001b[0m          initial\u001b[39m=\u001b[39m_NoValue, where\u001b[39m=\u001b[39m\u001b[39mTrue\u001b[39;00m):\n\u001b[1;32m     48\u001b[0m     \u001b[39mreturn\u001b[39;00m umr_sum(a, axis, dtype, out, keepdims, initial, where)\n\u001b[1;32m     50\u001b[0m \u001b[39mdef\u001b[39;00m \u001b[39m_prod\u001b[39m(a, axis\u001b[39m=\u001b[39m\u001b[39mNone\u001b[39;00m, dtype\u001b[39m=\u001b[39m\u001b[39mNone\u001b[39;00m, out\u001b[39m=\u001b[39m\u001b[39mNone\u001b[39;00m, keepdims\u001b[39m=\u001b[39m\u001b[39mFalse\u001b[39;00m,\n\u001b[1;32m     51\u001b[0m           initial\u001b[39m=\u001b[39m_NoValue, where\u001b[39m=\u001b[39m\u001b[39mTrue\u001b[39;00m):\n",
      "\u001b[0;31mKeyboardInterrupt\u001b[0m: "
     ]
    },
    {
     "data": {
      "image/png": "[encoded data removed]",
      "text/plain": [
       "<Figure size 640x480 with 1 Axes>"
      ]
     },
     "metadata": {},
     "output_type": "display_data"
    }
   ],
   "source": [
    "G = nx.Graph()\n",
    "\n",
    "sampled_wiki_graph = wiki_graph#.sample(100, replace=False)\n",
    "counter = 0\n",
    "for ind in sampled_wiki_graph.index:\n",
    "    counter +=1\n",
    "    node_name = wiki_graph[\"article\"][ind]\n",
    "    node_links = wiki_graph[\"links\"][ind]\n",
    "    if(len(node_links) == 0):\n",
    "        print(node_name)\n",
    "        print(\"??\")\n",
    "        break\n",
    "    for l in node_links:\n",
    "        G.add_edge(node_name, l)\n",
    "\n",
    "print(G.number_of_nodes())\n",
    "print(G.number_of_edges())\n",
    "print(counter)\n",
    "\n",
    "nx.draw(G, with_labels=False, node_size=0.1)\n",
    "plt.draw()\n",
    "plt.savefig(\"wikispeedia_graph.pdf\")"
   ]
  },
  {
   "cell_type": "code",
   "execution_count": 47,
   "metadata": {},
   "outputs": [
    {
     "name": "stdout",
     "output_type": "stream",
     "text": [
      "United_States -> 0.0073487693403575405\n",
      "United_Kingdom -> 0.00458076938779606\n",
      "Europe -> 0.004353391538443455\n",
      "France -> 0.004157386167202908\n",
      "England -> 0.0036954152923990924\n",
      "Germany -> 0.0033470404654848645\n",
      "World_War_II -> 0.003344467147522731\n",
      "Scientific_classification -> 0.0028688381329989134\n",
      "London -> 0.0028377288959734394\n",
      "English_language -> 0.0027092009622877904\n"
     ]
    }
   ],
   "source": [
    "# graph analytics\n",
    "pagerankDict = nx.pagerank(G, alpha=0.9)\n",
    "\n",
    "topN = 10\n",
    "top_tuples = sort_dict_by_value(pagerankDict)[:topN]\n",
    "for (key,value) in top_tuples:\n",
    "    print(key,\"->\",value)"
   ]
  },
  {
   "cell_type": "code",
   "execution_count": 63,
   "metadata": {},
   "outputs": [
    {
     "name": "stdout",
     "output_type": "stream",
     "text": [
      "3\n",
      "4589\n",
      "4592\n"
     ]
    }
   ],
   "source": [
    "print(len(list(nx.connected_components(G))[1]))\n",
    "print(len(list(nx.connected_components(G))[0]))\n",
    "print(G.number_of_nodes())"
   ]
  },
  {
   "cell_type": "markdown",
   "metadata": {},
   "source": [
    "## Analyze the paths"
   ]
  },
  {
   "cell_type": "code",
   "execution_count": null,
   "metadata": {},
   "outputs": [],
   "source": [
    "def quantize_path(str_path):\n",
    "    return str_path.split(\";\")\n",
    "\n",
    "def get_start_node(list_path):\n",
    "    return list_path[0]\n",
    "\n",
    "def get_target_node(list_path):\n",
    "    return list_path[len(list_path)-1]"
   ]
  },
  {
   "cell_type": "code",
   "execution_count": null,
   "metadata": {},
   "outputs": [
    {
     "data": {
      "text/html": [
       "<div>\n",
       "<style scoped>\n",
       "    .dataframe tbody tr th:only-of-type {\n",
       "        vertical-align: middle;\n",
       "    }\n",
       "\n",
       "    .dataframe tbody tr th {\n",
       "        vertical-align: top;\n",
       "    }\n",
       "\n",
       "    .dataframe thead th {\n",
       "        text-align: right;\n",
       "    }\n",
       "</style>\n",
       "<table border=\"1\" class=\"dataframe\">\n",
       "  <thead>\n",
       "    <tr style=\"text-align: right;\">\n",
       "      <th></th>\n",
       "      <th>durationInSec</th>\n",
       "      <th>path</th>\n",
       "      <th>rating</th>\n",
       "      <th>status</th>\n",
       "      <th>start</th>\n",
       "      <th>target</th>\n",
       "    </tr>\n",
       "  </thead>\n",
       "  <tbody>\n",
       "    <tr>\n",
       "      <th>51313</th>\n",
       "      <td>66</td>\n",
       "      <td>[Yagan, Ancient_Egypt, Civilization]</td>\n",
       "      <td>NaN</td>\n",
       "      <td>Success</td>\n",
       "      <td>Yagan</td>\n",
       "      <td>Civilization</td>\n",
       "    </tr>\n",
       "    <tr>\n",
       "      <th>51314</th>\n",
       "      <td>165</td>\n",
       "      <td>[Yagan, Folklore, Brothers_Grimm, &lt;, 19th_cent...</td>\n",
       "      <td>3.0</td>\n",
       "      <td>Success</td>\n",
       "      <td>Yagan</td>\n",
       "      <td>Fiction</td>\n",
       "    </tr>\n",
       "    <tr>\n",
       "      <th>51315</th>\n",
       "      <td>228</td>\n",
       "      <td>[Yagan, Australia, England, France, United_Sta...</td>\n",
       "      <td>NaN</td>\n",
       "      <td>Success</td>\n",
       "      <td>Yagan</td>\n",
       "      <td>U.S._Open_%28tennis%29</td>\n",
       "    </tr>\n",
       "    <tr>\n",
       "      <th>51316</th>\n",
       "      <td>56</td>\n",
       "      <td>[Yarralumla%2C_Australian_Capital_Territory, A...</td>\n",
       "      <td>1.0</td>\n",
       "      <td>Success</td>\n",
       "      <td>Yarralumla%2C_Australian_Capital_Territory</td>\n",
       "      <td>Abraham_Lincoln</td>\n",
       "    </tr>\n",
       "    <tr>\n",
       "      <th>51317</th>\n",
       "      <td>30</td>\n",
       "      <td>[Ziad_Jarrah, Germany, Jew]</td>\n",
       "      <td>NaN</td>\n",
       "      <td>Success</td>\n",
       "      <td>Ziad_Jarrah</td>\n",
       "      <td>Jew</td>\n",
       "    </tr>\n",
       "  </tbody>\n",
       "</table>\n",
       "</div>"
      ],
      "text/plain": [
       "       durationInSec                                               path  \\\n",
       "51313             66               [Yagan, Ancient_Egypt, Civilization]   \n",
       "51314            165  [Yagan, Folklore, Brothers_Grimm, <, 19th_cent...   \n",
       "51315            228  [Yagan, Australia, England, France, United_Sta...   \n",
       "51316             56  [Yarralumla%2C_Australian_Capital_Territory, A...   \n",
       "51317             30                        [Ziad_Jarrah, Germany, Jew]   \n",
       "\n",
       "       rating   status                                       start  \\\n",
       "51313     NaN  Success                                       Yagan   \n",
       "51314     3.0  Success                                       Yagan   \n",
       "51315     NaN  Success                                       Yagan   \n",
       "51316     1.0  Success  Yarralumla%2C_Australian_Capital_Territory   \n",
       "51317     NaN  Success                                 Ziad_Jarrah   \n",
       "\n",
       "                       target  \n",
       "51313            Civilization  \n",
       "51314                 Fiction  \n",
       "51315  U.S._Open_%28tennis%29  \n",
       "51316         Abraham_Lincoln  \n",
       "51317                     Jew  "
      ]
     },
     "metadata": {},
     "output_type": "display_data"
    }
   ],
   "source": [
    "paths_finished = pd.read_csv(\n",
    "    \"data/graph/paths_finished.tsv\",\n",
    "    skiprows=15,\n",
    "    sep=\"\\t\",\n",
    "    names=[\"hashedIpAddress\", \"timestamp\", \"durationInSec\", \"path\", \"rating\", \"status\",\"start\", \"target\"],\n",
    ")\n",
    "\n",
    "paths_finished[\"status\"] = [\"Success\" for x in range(len(paths_finished.index))]\n",
    "#paths_finished[\"type\"] = [\"Success\" for x in range(len(paths_finished.index))]\n",
    "\n",
    "paths_finished[\"path\"] = paths_finished[\"path\"].apply(quantize_path)\n",
    "paths_finished[\"start\"] = paths_finished[\"path\"].apply(get_start_node)\n",
    "paths_finished[\"target\"] = paths_finished[\"path\"].apply(get_target_node)\n",
    "\n",
    "paths_finished = paths_finished.drop(columns=[\"hashedIpAddress\", \"timestamp\"])\n",
    "\n",
    "paths_finished.tail()"
   ]
  },
  {
   "cell_type": "code",
   "execution_count": null,
   "metadata": {},
   "outputs": [
    {
     "data": {
      "text/html": [
       "<div>\n",
       "<style scoped>\n",
       "    .dataframe tbody tr th:only-of-type {\n",
       "        vertical-align: middle;\n",
       "    }\n",
       "\n",
       "    .dataframe tbody tr th {\n",
       "        vertical-align: top;\n",
       "    }\n",
       "\n",
       "    .dataframe thead th {\n",
       "        text-align: right;\n",
       "    }\n",
       "</style>\n",
       "<table border=\"1\" class=\"dataframe\">\n",
       "  <thead>\n",
       "    <tr style=\"text-align: right;\">\n",
       "      <th></th>\n",
       "      <th>durationInSec</th>\n",
       "      <th>path</th>\n",
       "      <th>target</th>\n",
       "      <th>type</th>\n",
       "      <th>status</th>\n",
       "      <th>start</th>\n",
       "    </tr>\n",
       "  </thead>\n",
       "  <tbody>\n",
       "    <tr>\n",
       "      <th>1</th>\n",
       "      <td>49</td>\n",
       "      <td>[Paraguay]</td>\n",
       "      <td>Mount_St._Helens</td>\n",
       "      <td>restart</td>\n",
       "      <td>Fail</td>\n",
       "      <td>Paraguay</td>\n",
       "    </tr>\n",
       "    <tr>\n",
       "      <th>5</th>\n",
       "      <td>175</td>\n",
       "      <td>[4-2-0, United_States, Agriculture, Sugar, Aus...</td>\n",
       "      <td>Cane_Toad</td>\n",
       "      <td>restart</td>\n",
       "      <td>Fail</td>\n",
       "      <td>4-2-0</td>\n",
       "    </tr>\n",
       "    <tr>\n",
       "      <th>6</th>\n",
       "      <td>19</td>\n",
       "      <td>[Logic]</td>\n",
       "      <td>Moon_landing</td>\n",
       "      <td>restart</td>\n",
       "      <td>Fail</td>\n",
       "      <td>Logic</td>\n",
       "    </tr>\n",
       "    <tr>\n",
       "      <th>9</th>\n",
       "      <td>8</td>\n",
       "      <td>[Niobium]</td>\n",
       "      <td>Beeching_Axe</td>\n",
       "      <td>restart</td>\n",
       "      <td>Fail</td>\n",
       "      <td>Niobium</td>\n",
       "    </tr>\n",
       "    <tr>\n",
       "      <th>10</th>\n",
       "      <td>334</td>\n",
       "      <td>[Saint_Kitts_and_Nevis, United_Kingdom, World_...</td>\n",
       "      <td>Sandy_Koufax</td>\n",
       "      <td>restart</td>\n",
       "      <td>Fail</td>\n",
       "      <td>Saint_Kitts_and_Nevis</td>\n",
       "    </tr>\n",
       "  </tbody>\n",
       "</table>\n",
       "</div>"
      ],
      "text/plain": [
       "    durationInSec                                               path  \\\n",
       "1              49                                         [Paraguay]   \n",
       "5             175  [4-2-0, United_States, Agriculture, Sugar, Aus...   \n",
       "6              19                                            [Logic]   \n",
       "9               8                                          [Niobium]   \n",
       "10            334  [Saint_Kitts_and_Nevis, United_Kingdom, World_...   \n",
       "\n",
       "              target     type status                  start  \n",
       "1   Mount_St._Helens  restart   Fail               Paraguay  \n",
       "5          Cane_Toad  restart   Fail                  4-2-0  \n",
       "6       Moon_landing  restart   Fail                  Logic  \n",
       "9       Beeching_Axe  restart   Fail                Niobium  \n",
       "10      Sandy_Koufax  restart   Fail  Saint_Kitts_and_Nevis  "
      ]
     },
     "metadata": {},
     "output_type": "display_data"
    }
   ],
   "source": [
    "paths_unfinished = pd.read_csv(\n",
    "    \"data/graph/paths_unfinished.tsv\",\n",
    "    skiprows=19,\n",
    "    sep=\"\\t\",\n",
    "    names=[\"hashedIpAddress\", \"timestamp\", \"durationInSec\", \"path\", \"target\", \"type\"],\n",
    ")\n",
    "\n",
    "paths_unfinished = paths_unfinished.drop(columns=[\"hashedIpAddress\", \"timestamp\"])\n",
    "\n",
    "paths_unfinished[\"status\"] = [\"Fail\" for x in range(len(paths_unfinished.index))]\n",
    "#paths_unfinished[\"rating\"] = [-999 for x in range(len(paths_unfinished.index))]\n",
    "\n",
    "paths_unfinished[\"path\"] = paths_unfinished[\"path\"].apply(quantize_path)\n",
    "paths_unfinished[\"start\"] = paths_unfinished[\"path\"].apply(get_start_node)\n",
    "\n",
    "#Should we drop timeouts?\n",
    "paths_unfinished = paths_unfinished[paths_unfinished[\"type\"] != \"timeout\"]\n",
    "\n",
    "paths_unfinished.head()"
   ]
  },
  {
   "cell_type": "code",
   "execution_count": null,
   "metadata": {},
   "outputs": [
    {
     "data": {
      "text/html": [
       "<div>\n",
       "<style scoped>\n",
       "    .dataframe tbody tr th:only-of-type {\n",
       "        vertical-align: middle;\n",
       "    }\n",
       "\n",
       "    .dataframe tbody tr th {\n",
       "        vertical-align: top;\n",
       "    }\n",
       "\n",
       "    .dataframe thead th {\n",
       "        text-align: right;\n",
       "    }\n",
       "</style>\n",
       "<table border=\"1\" class=\"dataframe\">\n",
       "  <thead>\n",
       "    <tr style=\"text-align: right;\">\n",
       "      <th></th>\n",
       "      <th>start</th>\n",
       "      <th>target</th>\n",
       "      <th>status</th>\n",
       "      <th>path</th>\n",
       "    </tr>\n",
       "  </thead>\n",
       "  <tbody>\n",
       "    <tr>\n",
       "      <th>24866</th>\n",
       "      <td>Wine</td>\n",
       "      <td>History_of_post-Soviet_Russia</td>\n",
       "      <td>Fail</td>\n",
       "      <td>[Wine, Georgia_%28country%29, Russia]</td>\n",
       "    </tr>\n",
       "    <tr>\n",
       "      <th>24867</th>\n",
       "      <td>Turks_and_Caicos_Islands</td>\n",
       "      <td>Iraq_War</td>\n",
       "      <td>Fail</td>\n",
       "      <td>[Turks_and_Caicos_Islands, United_States, Iraq...</td>\n",
       "    </tr>\n",
       "    <tr>\n",
       "      <th>24868</th>\n",
       "      <td>Franz_Kafka</td>\n",
       "      <td>Cholera</td>\n",
       "      <td>Fail</td>\n",
       "      <td>[Franz_Kafka, Tuberculosis, World_Health_Organ...</td>\n",
       "    </tr>\n",
       "    <tr>\n",
       "      <th>24869</th>\n",
       "      <td>Modern_history</td>\n",
       "      <td>Hollandic</td>\n",
       "      <td>Fail</td>\n",
       "      <td>[Modern_history]</td>\n",
       "    </tr>\n",
       "    <tr>\n",
       "      <th>24872</th>\n",
       "      <td>Mark_Antony</td>\n",
       "      <td>Feather</td>\n",
       "      <td>Fail</td>\n",
       "      <td>[Mark_Antony, Rome, Tennis, Hawk-Eye, Computer]</td>\n",
       "    </tr>\n",
       "  </tbody>\n",
       "</table>\n",
       "</div>"
      ],
      "text/plain": [
       "                          start                         target status  \\\n",
       "24866                      Wine  History_of_post-Soviet_Russia   Fail   \n",
       "24867  Turks_and_Caicos_Islands                       Iraq_War   Fail   \n",
       "24868               Franz_Kafka                        Cholera   Fail   \n",
       "24869            Modern_history                      Hollandic   Fail   \n",
       "24872               Mark_Antony                        Feather   Fail   \n",
       "\n",
       "                                                    path  \n",
       "24866              [Wine, Georgia_%28country%29, Russia]  \n",
       "24867  [Turks_and_Caicos_Islands, United_States, Iraq...  \n",
       "24868  [Franz_Kafka, Tuberculosis, World_Health_Organ...  \n",
       "24869                                   [Modern_history]  \n",
       "24872    [Mark_Antony, Rome, Tennis, Hawk-Eye, Computer]  "
      ]
     },
     "metadata": {},
     "output_type": "display_data"
    }
   ],
   "source": [
    "red_paths_finished = paths_finished.drop(columns=[\"rating\"])\n",
    "red_paths_unfinished = paths_unfinished.drop(columns=[\"type\"])\n",
    "\n",
    "paths = pd.concat([red_paths_finished,red_paths_unfinished],axis=0).drop(columns=[\"durationInSec\"])\n",
    "\n",
    "paths = paths.reindex(columns=[\"start\",\"target\",\"status\",\"path\"])\n",
    "\n",
    "paths.tail()"
   ]
  },
  {
   "cell_type": "code",
   "execution_count": null,
   "metadata": {},
   "outputs": [
    {
     "data": {
      "text/html": [
       "<div>\n",
       "<style scoped>\n",
       "    .dataframe tbody tr th:only-of-type {\n",
       "        vertical-align: middle;\n",
       "    }\n",
       "\n",
       "    .dataframe tbody tr th {\n",
       "        vertical-align: top;\n",
       "    }\n",
       "\n",
       "    .dataframe thead th {\n",
       "        text-align: right;\n",
       "    }\n",
       "</style>\n",
       "<table border=\"1\" class=\"dataframe\">\n",
       "  <thead>\n",
       "    <tr style=\"text-align: right;\">\n",
       "      <th></th>\n",
       "      <th>start</th>\n",
       "      <th>path</th>\n",
       "      <th>target</th>\n",
       "      <th>failed</th>\n",
       "      <th>rating</th>\n",
       "      <th>type</th>\n",
       "      <th>hashedIpAddress</th>\n",
       "      <th>timestamp</th>\n",
       "      <th>durationInSec</th>\n",
       "    </tr>\n",
       "  </thead>\n",
       "  <tbody>\n",
       "  </tbody>\n",
       "</table>\n",
       "</div>"
      ],
      "text/plain": [
       "Empty DataFrame\n",
       "Columns: [start, path, target, failed, rating, type, hashedIpAddress, timestamp, durationInSec]\n",
       "Index: []"
      ]
     },
     "metadata": {},
     "output_type": "display_data"
    }
   ],
   "source": [
    "paths = pd.DataFrame(columns=[\"start\", \"path\", \"target\", \"failed\", \"rating\", \"type\", \"hashedIpAddress\", \"timestamp\", \"durationInSec\"])\n",
    "paths.head()"
   ]
  }
 ],
 "metadata": {
  "kernelspec": {
   "display_name": "Python 3.9.13 ('base')",
   "language": "python",
   "name": "python3"
  },
  "language_info": {
   "codemirror_mode": {
    "name": "ipython",
    "version": 3
   },
   "file_extension": ".py",
   "mimetype": "text/x-python",
   "name": "python",
   "nbconvert_exporter": "python",
   "pygments_lexer": "ipython3",
   "version": "3.9.13"
  },
  "orig_nbformat": 4,
  "vscode": {
   "interpreter": {
    "hash": "59b10b33dd2388d061499ab18bd959509ad3fd716fa599c912e50c24faafd96e"
   }
  }
 },
 "nbformat": 4,
 "nbformat_minor": 2
}
