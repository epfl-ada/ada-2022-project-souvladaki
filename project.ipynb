{
 "cells": [
  {
   "cell_type": "markdown",
   "metadata": {},
   "source": [
    "# Initial Analysis - Proposal"
   ]
  },
  {
   "cell_type": "code",
   "execution_count": 121,
   "metadata": {},
   "outputs": [],
   "source": [
    "import pandas as pd\n",
    "import networkx as nx\n",
    "import numpy as np\n",
    "\n",
    "import matplotlib.pyplot as plt"
   ]
  },
  {
   "cell_type": "markdown",
   "metadata": {},
   "source": [
    "## Load the graph data"
   ]
  },
  {
   "cell_type": "code",
   "execution_count": 109,
   "metadata": {},
   "outputs": [
    {
     "name": "stdout",
     "output_type": "stream",
     "text": [
      "True\n"
     ]
    },
    {
     "data": {
      "text/html": [
       "<div>\n",
       "<style scoped>\n",
       "    .dataframe tbody tr th:only-of-type {\n",
       "        vertical-align: middle;\n",
       "    }\n",
       "\n",
       "    .dataframe tbody tr th {\n",
       "        vertical-align: top;\n",
       "    }\n",
       "\n",
       "    .dataframe thead th {\n",
       "        text-align: right;\n",
       "    }\n",
       "</style>\n",
       "<table border=\"1\" class=\"dataframe\">\n",
       "  <thead>\n",
       "    <tr style=\"text-align: right;\">\n",
       "      <th></th>\n",
       "      <th>article</th>\n",
       "    </tr>\n",
       "  </thead>\n",
       "  <tbody>\n",
       "    <tr>\n",
       "      <th>0</th>\n",
       "      <td>%C3%81ed%C3%A1n_mac_Gabr%C3%A1in</td>\n",
       "    </tr>\n",
       "    <tr>\n",
       "      <th>1</th>\n",
       "      <td>%C3%85land</td>\n",
       "    </tr>\n",
       "  </tbody>\n",
       "</table>\n",
       "</div>"
      ],
      "text/plain": [
       "                            article\n",
       "0  %C3%81ed%C3%A1n_mac_Gabr%C3%A1in\n",
       "1                        %C3%85land"
      ]
     },
     "execution_count": 109,
     "metadata": {},
     "output_type": "execute_result"
    }
   ],
   "source": [
    "articles = pd.read_table(\"data/graph/articles.tsv\", skiprows=11, names=[\"article\"])\n",
    "\n",
    "print(articles[\"article\"].is_unique)\n",
    "\n",
    "articles.head(2)"
   ]
  },
  {
   "cell_type": "code",
   "execution_count": 37,
   "metadata": {},
   "outputs": [
    {
     "data": {
      "text/html": [
       "<div>\n",
       "<style scoped>\n",
       "    .dataframe tbody tr th:only-of-type {\n",
       "        vertical-align: middle;\n",
       "    }\n",
       "\n",
       "    .dataframe tbody tr th {\n",
       "        vertical-align: top;\n",
       "    }\n",
       "\n",
       "    .dataframe thead th {\n",
       "        text-align: right;\n",
       "    }\n",
       "</style>\n",
       "<table border=\"1\" class=\"dataframe\">\n",
       "  <thead>\n",
       "    <tr style=\"text-align: right;\">\n",
       "      <th></th>\n",
       "      <th>article</th>\n",
       "      <th>category</th>\n",
       "    </tr>\n",
       "  </thead>\n",
       "  <tbody>\n",
       "    <tr>\n",
       "      <th>0</th>\n",
       "      <td>%C3%81ed%C3%A1n_mac_Gabr%C3%A1in</td>\n",
       "      <td>subject.History.British_History.British_Histor...</td>\n",
       "    </tr>\n",
       "    <tr>\n",
       "      <th>1</th>\n",
       "      <td>%C3%81ed%C3%A1n_mac_Gabr%C3%A1in</td>\n",
       "      <td>subject.People.Historical_figures</td>\n",
       "    </tr>\n",
       "  </tbody>\n",
       "</table>\n",
       "</div>"
      ],
      "text/plain": [
       "                            article  \\\n",
       "0  %C3%81ed%C3%A1n_mac_Gabr%C3%A1in   \n",
       "1  %C3%81ed%C3%A1n_mac_Gabr%C3%A1in   \n",
       "\n",
       "                                            category  \n",
       "0  subject.History.British_History.British_Histor...  \n",
       "1                  subject.People.Historical_figures  "
      ]
     },
     "execution_count": 37,
     "metadata": {},
     "output_type": "execute_result"
    }
   ],
   "source": [
    "categories = pd.read_csv(\n",
    "    \"data/graph/categories.tsv\", skiprows=12, sep=\"\\t\", names=[\"article\", \"category\"]\n",
    ")\n",
    "categories.head(2)"
   ]
  },
  {
   "cell_type": "code",
   "execution_count": 44,
   "metadata": {},
   "outputs": [
    {
     "data": {
      "text/html": [
       "<div>\n",
       "<style scoped>\n",
       "    .dataframe tbody tr th:only-of-type {\n",
       "        vertical-align: middle;\n",
       "    }\n",
       "\n",
       "    .dataframe tbody tr th {\n",
       "        vertical-align: top;\n",
       "    }\n",
       "\n",
       "    .dataframe thead th {\n",
       "        text-align: right;\n",
       "    }\n",
       "</style>\n",
       "<table border=\"1\" class=\"dataframe\">\n",
       "  <thead>\n",
       "    <tr style=\"text-align: right;\">\n",
       "      <th></th>\n",
       "      <th>article1</th>\n",
       "      <th>article2</th>\n",
       "    </tr>\n",
       "  </thead>\n",
       "  <tbody>\n",
       "    <tr>\n",
       "      <th>119880</th>\n",
       "      <td>Zulu</td>\n",
       "      <td>Zambia</td>\n",
       "    </tr>\n",
       "    <tr>\n",
       "      <th>119881</th>\n",
       "      <td>Zulu</td>\n",
       "      <td>Zimbabwe</td>\n",
       "    </tr>\n",
       "  </tbody>\n",
       "</table>\n",
       "</div>"
      ],
      "text/plain": [
       "       article1  article2\n",
       "119880     Zulu    Zambia\n",
       "119881     Zulu  Zimbabwe"
      ]
     },
     "execution_count": 44,
     "metadata": {},
     "output_type": "execute_result"
    }
   ],
   "source": [
    "links = pd.read_csv(\n",
    "    \"data/graph/links.tsv\", skiprows=11, sep=\"\\t\", names=[\"article1\", \"article2\"]\n",
    ")\n",
    "links.tail(2)"
   ]
  },
  {
   "cell_type": "code",
   "execution_count": 39,
   "metadata": {},
   "outputs": [],
   "source": [
    "paths_finished = pd.read_csv(\"data/graph/paths_finished.tsv\")"
   ]
  },
  {
   "cell_type": "markdown",
   "metadata": {},
   "source": [
    "## Analyzing the data"
   ]
  },
  {
   "cell_type": "code",
   "execution_count": 113,
   "metadata": {},
   "outputs": [
    {
     "data": {
      "text/html": [
       "<div>\n",
       "<style scoped>\n",
       "    .dataframe tbody tr th:only-of-type {\n",
       "        vertical-align: middle;\n",
       "    }\n",
       "\n",
       "    .dataframe tbody tr th {\n",
       "        vertical-align: top;\n",
       "    }\n",
       "\n",
       "    .dataframe thead th {\n",
       "        text-align: right;\n",
       "    }\n",
       "</style>\n",
       "<table border=\"1\" class=\"dataframe\">\n",
       "  <thead>\n",
       "    <tr style=\"text-align: right;\">\n",
       "      <th></th>\n",
       "      <th>article</th>\n",
       "      <th>category</th>\n",
       "      <th>links</th>\n",
       "      <th>links_count</th>\n",
       "    </tr>\n",
       "  </thead>\n",
       "  <tbody>\n",
       "    <tr>\n",
       "      <th>4599</th>\n",
       "      <td>Zionism</td>\n",
       "      <td>[subject.People.Political_People, subject.Reli...</td>\n",
       "      <td>[18th_century, 19th_century, Adolf_Hitler, Alb...</td>\n",
       "      <td>74</td>\n",
       "    </tr>\n",
       "    <tr>\n",
       "      <th>4600</th>\n",
       "      <td>Zirconium</td>\n",
       "      <td>[subject.Science.Chemistry.Chemical_elements]</td>\n",
       "      <td>[Aluminium, Arabic_language, Australia, Bicycl...</td>\n",
       "      <td>42</td>\n",
       "    </tr>\n",
       "    <tr>\n",
       "      <th>4601</th>\n",
       "      <td>Zoroaster</td>\n",
       "      <td>[subject.People.Religious_figures_and_leaders]</td>\n",
       "      <td>[18th_century, 9th_century, Afghanistan, Age_o...</td>\n",
       "      <td>28</td>\n",
       "    </tr>\n",
       "    <tr>\n",
       "      <th>4602</th>\n",
       "      <td>Zuid-Gelders</td>\n",
       "      <td>[subject.Geography.European_Geography, subject...</td>\n",
       "      <td>[Brabantian, Dutch_language, East_Flemish, Hol...</td>\n",
       "      <td>5</td>\n",
       "    </tr>\n",
       "    <tr>\n",
       "      <th>4603</th>\n",
       "      <td>Zulu</td>\n",
       "      <td>[subject.Geography.African_Geography]</td>\n",
       "      <td>[AK-47, Bantu, Cape_Town, Christianity, Englis...</td>\n",
       "      <td>15</td>\n",
       "    </tr>\n",
       "  </tbody>\n",
       "</table>\n",
       "</div>"
      ],
      "text/plain": [
       "           article                                           category  \\\n",
       "4599       Zionism  [subject.People.Political_People, subject.Reli...   \n",
       "4600     Zirconium      [subject.Science.Chemistry.Chemical_elements]   \n",
       "4601     Zoroaster     [subject.People.Religious_figures_and_leaders]   \n",
       "4602  Zuid-Gelders  [subject.Geography.European_Geography, subject...   \n",
       "4603          Zulu              [subject.Geography.African_Geography]   \n",
       "\n",
       "                                                  links links_count  \n",
       "4599  [18th_century, 19th_century, Adolf_Hitler, Alb...          74  \n",
       "4600  [Aluminium, Arabic_language, Australia, Bicycl...          42  \n",
       "4601  [18th_century, 9th_century, Afghanistan, Age_o...          28  \n",
       "4602  [Brabantian, Dutch_language, East_Flemish, Hol...           5  \n",
       "4603  [AK-47, Bantu, Cape_Town, Christianity, Englis...          15  "
      ]
     },
     "execution_count": 113,
     "metadata": {},
     "output_type": "execute_result"
    }
   ],
   "source": [
    "wiki_graph = pd.DataFrame(columns=[\"article\", \"category\", \"links\", \"links_count\"])\n",
    "\n",
    "wiki_graph[\"article\"] = articles[\"article\"]\n",
    "\n",
    "grouped_categories = categories.groupby(\"article\")\n",
    "for entry in grouped_categories:\n",
    "    article_name = entry[0]\n",
    "    cats_df = entry[1][\"category\"]\n",
    "    cats_list = cats_df.values.tolist()\n",
    "    \n",
    "    indices = wiki_graph.index[wiki_graph[\"article\"] == article_name].tolist()\n",
    "    for i in indices:\n",
    "        wiki_graph.at[i, \"category\"] = cats_list\n",
    "\n",
    "groyped_links = links.groupby(\"article1\")\n",
    "for entry in groyped_links:\n",
    "    article_name = entry[0]\n",
    "    links_df = entry[1][\"article2\"]\n",
    "    links_list = links_df.values.tolist()\n",
    "\n",
    "    indices = wiki_graph.index[wiki_graph[\"article\"] == article_name].tolist()\n",
    "    for i in indices:\n",
    "        wiki_graph.at[i, \"links\"] = links_list\n",
    "        wiki_graph.at[i, \"links_count\"] = len(links_list)\n",
    "\n",
    "wiki_graph.tail()"
   ]
  },
  {
   "cell_type": "code",
   "execution_count": 117,
   "metadata": {},
   "outputs": [
    {
     "name": "stdout",
     "output_type": "stream",
     "text": [
      "True\n",
      "4604\n",
      "4604\n",
      "4\n"
     ]
    }
   ],
   "source": [
    "print(wiki_graph[\"article\"].is_unique)\n",
    "print(len(wiki_graph))\n",
    "print(wiki_graph.shape[0])\n",
    "print(wiki_graph.shape[1])"
   ]
  },
  {
   "cell_type": "markdown",
   "metadata": {},
   "source": [
    "## Visualizations"
   ]
  },
  {
   "cell_type": "code",
   "execution_count": 133,
   "metadata": {},
   "outputs": [
    {
     "data": {
      "image/png": "[encoded data removed]",
      "text/plain": [
       "<Figure size 640x480 with 1 Axes>"
      ]
     },
     "metadata": {},
     "output_type": "display_data"
    }
   ],
   "source": [
    "links_counts = wiki_graph[\"links_count\"].values\n",
    "\n",
    "plt.hist(links_counts, bins = 100)\n",
    "plt.title(\"Distribution of the total number of links per article\")\n",
    "plt.xlabel(\"Links\")\n",
    "plt.ylabel(\"Articles\")\n",
    "plt.show()\n"
   ]
  }
 ],
 "metadata": {
  "kernelspec": {
   "display_name": "Python 3.10.8 64-bit",
   "language": "python",
   "name": "python3"
  },
  "language_info": {
   "codemirror_mode": {
    "name": "ipython",
    "version": 3
   },
   "file_extension": ".py",
   "mimetype": "text/x-python",
   "name": "python",
   "nbconvert_exporter": "python",
   "pygments_lexer": "ipython3",
   "version": "3.10.8"
  },
  "orig_nbformat": 4,
  "vscode": {
   "interpreter": {
    "hash": "b0fa6594d8f4cbf19f97940f81e996739fb7646882a419484c72d19e05852a7e"
   }
  }
 },
 "nbformat": 4,
 "nbformat_minor": 2
}
