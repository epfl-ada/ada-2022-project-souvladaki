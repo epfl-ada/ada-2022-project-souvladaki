{
 "cells": [
  {
   "cell_type": "markdown",
   "metadata": {},
   "source": [
    "# Initial Analysis - Proposal"
   ]
  },
  {
   "cell_type": "code",
   "execution_count": 1,
   "metadata": {},
   "outputs": [],
   "source": [
    "import pandas as pd\n",
    "import networkx as nx\n",
    "import numpy as np\n",
    "\n",
    "import matplotlib as plt\n",
    "import matplotlib.pyplot as plt\n",
    "\n",
    "#from matplotlib import pylab\n"
   ]
  },
  {
   "cell_type": "markdown",
   "metadata": {},
   "source": [
    "## Analyzing the Graph"
   ]
  },
  {
   "cell_type": "markdown",
   "metadata": {},
   "source": [
    "### Load required data"
   ]
  },
  {
   "cell_type": "code",
   "execution_count": 2,
   "metadata": {},
   "outputs": [
    {
     "data": {
      "text/plain": "                            article\n0  %C3%81ed%C3%A1n_mac_Gabr%C3%A1in\n1                        %C3%85land\n2                %C3%89douard_Manet\n3                         %C3%89ire\n4        %C3%93engus_I_of_the_Picts",
      "text/html": "<div>\n<style scoped>\n    .dataframe tbody tr th:only-of-type {\n        vertical-align: middle;\n    }\n\n    .dataframe tbody tr th {\n        vertical-align: top;\n    }\n\n    .dataframe thead th {\n        text-align: right;\n    }\n</style>\n<table border=\"1\" class=\"dataframe\">\n  <thead>\n    <tr style=\"text-align: right;\">\n      <th></th>\n      <th>article</th>\n    </tr>\n  </thead>\n  <tbody>\n    <tr>\n      <th>0</th>\n      <td>%C3%81ed%C3%A1n_mac_Gabr%C3%A1in</td>\n    </tr>\n    <tr>\n      <th>1</th>\n      <td>%C3%85land</td>\n    </tr>\n    <tr>\n      <th>2</th>\n      <td>%C3%89douard_Manet</td>\n    </tr>\n    <tr>\n      <th>3</th>\n      <td>%C3%89ire</td>\n    </tr>\n    <tr>\n      <th>4</th>\n      <td>%C3%93engus_I_of_the_Picts</td>\n    </tr>\n  </tbody>\n</table>\n</div>"
     },
     "execution_count": 2,
     "metadata": {},
     "output_type": "execute_result"
    }
   ],
   "source": [
    "articles = pd.read_table(\"data/graph/articles.tsv\", skiprows=11, names=[\"article\"])\n",
    "\n",
    "categories = pd.read_csv(\"data/graph/categories.tsv\", skiprows=12, sep=\"\\t\", names=[\"article\", \"category\"])\n",
    "\n",
    "links = pd.read_csv(\"data/graph/links.tsv\", skiprows=11, sep=\"\\t\", names=[\"article1\", \"article2\"])\n",
    "\n",
    "articles.head(5)"
   ]
  },
  {
   "cell_type": "markdown",
   "metadata": {},
   "source": [
    "### Create the graph"
   ]
  },
  {
   "cell_type": "code",
   "execution_count": 3,
   "metadata": {},
   "outputs": [
    {
     "data": {
      "text/plain": "                         article  \\\n4568                       Yemen   \n2543   Lone_Wolf_%28gamebooks%29   \n1149               David_Cameron   \n1112             Cyrus_the_Great   \n3323  Portuguese_Communist_Party   \n\n                                               category  \\\n4568  [subject.Countries, subject.Geography.Geograph...   \n2543   [subject.Everyday_life.Computer_and_Video_games]   \n1149                  [subject.People.Political_People]   \n1112                [subject.People.Historical_figures]   \n3323      [subject.Citizenship.Politics_and_government]   \n\n                                                  links  links_count  \n4568  [11th_century, 16th_century, 19th_century, 7th...          140  \n2543                                                 []            0  \n1149  [21st_century, Arthur_Wellesley%2C_1st_Duke_of...           58  \n1112  [Ancient_Egypt, Behistun_Inscription, Bible, C...           23  \n3323  [Afghanistan, Angola, Cape_Verde, Communism, C...           26  ",
      "text/html": "<div>\n<style scoped>\n    .dataframe tbody tr th:only-of-type {\n        vertical-align: middle;\n    }\n\n    .dataframe tbody tr th {\n        vertical-align: top;\n    }\n\n    .dataframe thead th {\n        text-align: right;\n    }\n</style>\n<table border=\"1\" class=\"dataframe\">\n  <thead>\n    <tr style=\"text-align: right;\">\n      <th></th>\n      <th>article</th>\n      <th>category</th>\n      <th>links</th>\n      <th>links_count</th>\n    </tr>\n  </thead>\n  <tbody>\n    <tr>\n      <th>4568</th>\n      <td>Yemen</td>\n      <td>[subject.Countries, subject.Geography.Geograph...</td>\n      <td>[11th_century, 16th_century, 19th_century, 7th...</td>\n      <td>140</td>\n    </tr>\n    <tr>\n      <th>2543</th>\n      <td>Lone_Wolf_%28gamebooks%29</td>\n      <td>[subject.Everyday_life.Computer_and_Video_games]</td>\n      <td>[]</td>\n      <td>0</td>\n    </tr>\n    <tr>\n      <th>1149</th>\n      <td>David_Cameron</td>\n      <td>[subject.People.Political_People]</td>\n      <td>[21st_century, Arthur_Wellesley%2C_1st_Duke_of...</td>\n      <td>58</td>\n    </tr>\n    <tr>\n      <th>1112</th>\n      <td>Cyrus_the_Great</td>\n      <td>[subject.People.Historical_figures]</td>\n      <td>[Ancient_Egypt, Behistun_Inscription, Bible, C...</td>\n      <td>23</td>\n    </tr>\n    <tr>\n      <th>3323</th>\n      <td>Portuguese_Communist_Party</td>\n      <td>[subject.Citizenship.Politics_and_government]</td>\n      <td>[Afghanistan, Angola, Cape_Verde, Communism, C...</td>\n      <td>26</td>\n    </tr>\n  </tbody>\n</table>\n</div>"
     },
     "execution_count": 3,
     "metadata": {},
     "output_type": "execute_result"
    }
   ],
   "source": [
    "wiki_graph = pd.DataFrame(columns=[\"article\", \"category\", \"links\", \"links_count\"])\n",
    "\n",
    "wiki_graph[\"article\"] = articles[\"article\"]\n",
    "\n",
    "wiki_graph[\"links\"] = [list() for x in range(len(wiki_graph.index))]\n",
    "wiki_graph[\"links_count\"] = [0 for x in range(len(wiki_graph.index))]\n",
    "\n",
    "grouped_categories = categories.groupby(\"article\")\n",
    "\n",
    "for entry in grouped_categories:\n",
    "    article_name = entry[0]\n",
    "    cats_df = entry[1][\"category\"]\n",
    "    cats_list = cats_df.values.tolist()\n",
    "\n",
    "    indices = wiki_graph.index[wiki_graph[\"article\"] == article_name].tolist()\n",
    "    for i in indices:\n",
    "        wiki_graph.at[i, \"category\"] = cats_list\n",
    "\n",
    "grouped_links = links.groupby(\"article1\")\n",
    "\n",
    "for entry in grouped_links:\n",
    "    article_name = entry[0]\n",
    "    links_df = entry[1][\"article2\"]\n",
    "    links_list = links_df.values.tolist()\n",
    "\n",
    "    indices = wiki_graph.index[wiki_graph[\"article\"] == article_name].tolist()\n",
    "    for i in indices:\n",
    "        wiki_graph.at[i, \"links\"] = links_list\n",
    "        wiki_graph.at[i, \"links_count\"] = len(links_list)\n",
    "\n",
    "wiki_graph.sample(5)"
   ]
  },
  {
   "cell_type": "markdown",
   "source": [
    "#### Checking Null & errors"
   ],
   "metadata": {
    "collapsed": false
   }
  },
  {
   "cell_type": "code",
   "execution_count": 4,
   "metadata": {},
   "outputs": [
    {
     "name": "stdout",
     "output_type": "stream",
     "text": [
      "True\n",
      "4604\n",
      "4604\n",
      "4\n",
      "RangeIndex(start=0, stop=4604, step=1)\n"
     ]
    }
   ],
   "source": [
    "print(wiki_graph[\"article\"].is_unique)\n",
    "print(len(wiki_graph))\n",
    "print(wiki_graph.shape[0])\n",
    "print(wiki_graph.shape[1])\n",
    "print(wiki_graph.index)"
   ]
  },
  {
   "cell_type": "markdown",
   "metadata": {},
   "source": [
    "#### Visualizations"
   ]
  },
  {
   "cell_type": "code",
   "execution_count": 6,
   "metadata": {},
   "outputs": [
    {
     "data": {
      "text/plain": "<Figure size 640x480 with 1 Axes>",
      "image/png": "[encoded data removed]"
     },
     "metadata": {},
     "output_type": "display_data"
    }
   ],
   "source": [
    "links_counts = wiki_graph[\"links_count\"].values\n",
    "\n",
    "plt.hist(links_counts, bins=100)\n",
    "plt.title(\"Distribution of the total number of links per article\")\n",
    "plt.xlabel(\"Links\")\n",
    "plt.ylabel(\"Articles\")\n",
    "plt.show()"
   ]
  },
  {
   "cell_type": "code",
   "execution_count": 10,
   "metadata": {},
   "outputs": [
    {
     "name": "stdout",
     "output_type": "stream",
     "text": [
      "                                    article\n",
      "category                                   \n",
      "subject.Art.Art                          36\n",
      "subject.Art.Artists                       2\n",
      "subject.Business_Studies.Business        28\n",
      "subject.Business_Studies.Companies       18\n",
      "subject.Business_Studies.Currency        14\n",
      "['subject.Art.Artists', 'subject.Business_Studies.Business', 'subject.Business_Studies.Companies', 'subject.Business_Studies.Currency']\n"
     ]
    },
    {
     "data": {
      "text/plain": "<Figure size 640x480 with 1 Axes>",
      "image/png": "[encoded data removed]"
     },
     "metadata": {},
     "output_type": "display_data"
    }
   ],
   "source": [
    "groups = categories.groupby(\"category\").count()\n",
    "\n",
    "print(groups.head())\n",
    "\n",
    "labels = list(groups.index)\n",
    "values = list(groups[\"article\"])\n",
    "X_axis = np.arange(len(labels))\n",
    "\n",
    "plt.rcParams[\"font.size\"] = \"3\"\n",
    "\n",
    "plt.xticks(rotation=90)\n",
    "plt.bar(labels, values)\n",
    "plt.show()"
   ]
  },
  {
   "cell_type": "code",
   "execution_count": 19,
   "outputs": [
    {
     "data": {
      "text/plain": "                                                    article\ncategory                                                   \nsubject.Countries                                       229\nsubject.Science.Biology.Birds                           161\nsubject.Geography.Geography_of_Great_Britain            124\nsubject.Science.Chemistry.Chemical_elements             119\nsubject.Science.Biology.Mammals                         114\nsubject.Science.Biology.Health_and_medicine             109\nsubject.Science.Biology.Plants                          108\nsubject.People.Historical_figures                       108\nsubject.Science.Physics.Space_Astronomy                 105\nsubject.Geography.North_American_Geography              103\nsubject.Everyday_life.Food_and_agriculture               97\nsubject.Citizenship.Politics_and_government              97\nsubject.History.Ancient_History_Classical_Histo...       87\nsubject.Design_and_Technology.Railway_transport          84\nsubject.Geography.European_Geography                     83\nsubject.Geography.African_Geography                      80\nsubject.History.General_history                          80\nsubject.Geography.Geology_and_geophysics                 76\nsubject.Design_and_Technology.Engineering                74\nsubject.History.British_History.British_History...       73",
      "text/html": "<div>\n<style scoped>\n    .dataframe tbody tr th:only-of-type {\n        vertical-align: middle;\n    }\n\n    .dataframe tbody tr th {\n        vertical-align: top;\n    }\n\n    .dataframe thead th {\n        text-align: right;\n    }\n</style>\n<table border=\"1\" class=\"dataframe\">\n  <thead>\n    <tr style=\"text-align: right;\">\n      <th></th>\n      <th>article</th>\n    </tr>\n    <tr>\n      <th>category</th>\n      <th></th>\n    </tr>\n  </thead>\n  <tbody>\n    <tr>\n      <th>subject.Countries</th>\n      <td>229</td>\n    </tr>\n    <tr>\n      <th>subject.Science.Biology.Birds</th>\n      <td>161</td>\n    </tr>\n    <tr>\n      <th>subject.Geography.Geography_of_Great_Britain</th>\n      <td>124</td>\n    </tr>\n    <tr>\n      <th>subject.Science.Chemistry.Chemical_elements</th>\n      <td>119</td>\n    </tr>\n    <tr>\n      <th>subject.Science.Biology.Mammals</th>\n      <td>114</td>\n    </tr>\n    <tr>\n      <th>subject.Science.Biology.Health_and_medicine</th>\n      <td>109</td>\n    </tr>\n    <tr>\n      <th>subject.Science.Biology.Plants</th>\n      <td>108</td>\n    </tr>\n    <tr>\n      <th>subject.People.Historical_figures</th>\n      <td>108</td>\n    </tr>\n    <tr>\n      <th>subject.Science.Physics.Space_Astronomy</th>\n      <td>105</td>\n    </tr>\n    <tr>\n      <th>subject.Geography.North_American_Geography</th>\n      <td>103</td>\n    </tr>\n    <tr>\n      <th>subject.Everyday_life.Food_and_agriculture</th>\n      <td>97</td>\n    </tr>\n    <tr>\n      <th>subject.Citizenship.Politics_and_government</th>\n      <td>97</td>\n    </tr>\n    <tr>\n      <th>subject.History.Ancient_History_Classical_History_and_Mythology</th>\n      <td>87</td>\n    </tr>\n    <tr>\n      <th>subject.Design_and_Technology.Railway_transport</th>\n      <td>84</td>\n    </tr>\n    <tr>\n      <th>subject.Geography.European_Geography</th>\n      <td>83</td>\n    </tr>\n    <tr>\n      <th>subject.Geography.African_Geography</th>\n      <td>80</td>\n    </tr>\n    <tr>\n      <th>subject.History.General_history</th>\n      <td>80</td>\n    </tr>\n    <tr>\n      <th>subject.Geography.Geology_and_geophysics</th>\n      <td>76</td>\n    </tr>\n    <tr>\n      <th>subject.Design_and_Technology.Engineering</th>\n      <td>74</td>\n    </tr>\n    <tr>\n      <th>subject.History.British_History.British_History_1500_and_before_including_Roman_Britain</th>\n      <td>73</td>\n    </tr>\n  </tbody>\n</table>\n</div>"
     },
     "execution_count": 19,
     "metadata": {},
     "output_type": "execute_result"
    }
   ],
   "source": [
    "#Highest values of our categories\n",
    "groups = categories.groupby(\"category\").count()\n",
    "values = list(groups[\"article\"])\n",
    "highest_cat = groups.sort_values(ascending=False,by=['article'])\n",
    "highest_cat.head(20)"
   ],
   "metadata": {
    "collapsed": false
   }
  },
  {
   "cell_type": "code",
   "execution_count": 20,
   "metadata": {},
   "outputs": [],
   "source": [
    "def sort_dict_by_value(dict):\n",
    "    return sorted(dict.items(), key=lambda x: x[1], reverse=True)\n"
   ]
  },
  {
   "cell_type": "code",
   "execution_count": 21,
   "metadata": {},
   "outputs": [
    {
     "data": {
      "text/plain": "    article\n441  Badugi",
      "text/html": "<div>\n<style scoped>\n    .dataframe tbody tr th:only-of-type {\n        vertical-align: middle;\n    }\n\n    .dataframe tbody tr th {\n        vertical-align: top;\n    }\n\n    .dataframe thead th {\n        text-align: right;\n    }\n</style>\n<table border=\"1\" class=\"dataframe\">\n  <thead>\n    <tr style=\"text-align: right;\">\n      <th></th>\n      <th>article</th>\n    </tr>\n  </thead>\n  <tbody>\n    <tr>\n      <th>441</th>\n      <td>Badugi</td>\n    </tr>\n  </tbody>\n</table>\n</div>"
     },
     "execution_count": 21,
     "metadata": {},
     "output_type": "execute_result"
    }
   ],
   "source": [
    "wiki_graph[wiki_graph[\"article\"] == \"Badugi\"]\n",
    "articles[articles[\"article\"] == \"Badugi\"]"
   ]
  },
  {
   "cell_type": "code",
   "execution_count": 69,
   "metadata": {},
   "outputs": [
    {
     "name": "stdout",
     "output_type": "stream",
     "text": [
      "Badugi\n",
      "??\n",
      "2684\n",
      "11673\n",
      "442\n"
     ]
    },
    {
     "ename": "KeyboardInterrupt",
     "evalue": "",
     "output_type": "error",
     "traceback": [
      "\u001B[0;31m---------------------------------------------------------------------------\u001B[0m",
      "\u001B[0;31mKeyboardInterrupt\u001B[0m                         Traceback (most recent call last)",
      "Cell \u001B[0;32mIn [69], line 20\u001B[0m\n\u001B[1;32m     17\u001B[0m \u001B[39mprint\u001B[39m(G\u001B[39m.\u001B[39mnumber_of_edges())\n\u001B[1;32m     18\u001B[0m \u001B[39mprint\u001B[39m(counter)\n\u001B[0;32m---> 20\u001B[0m nx\u001B[39m.\u001B[39;49mdraw(G, with_labels\u001B[39m=\u001B[39;49m\u001B[39mFalse\u001B[39;49;00m, node_size\u001B[39m=\u001B[39;49m\u001B[39m0.1\u001B[39;49m)\n\u001B[1;32m     21\u001B[0m plt\u001B[39m.\u001B[39mdraw()\n\u001B[1;32m     22\u001B[0m plt\u001B[39m.\u001B[39msavefig(\u001B[39m\"\u001B[39m\u001B[39mwikispeedia_graph.pdf\u001B[39m\u001B[39m\"\u001B[39m)\n",
      "File \u001B[0;32m/opt/homebrew/lib/python3.10/site-packages/networkx/drawing/nx_pylab.py:121\u001B[0m, in \u001B[0;36mdraw\u001B[0;34m(G, pos, ax, **kwds)\u001B[0m\n\u001B[1;32m    118\u001B[0m \u001B[39mif\u001B[39;00m \u001B[39m\"\u001B[39m\u001B[39mwith_labels\u001B[39m\u001B[39m\"\u001B[39m \u001B[39mnot\u001B[39;00m \u001B[39min\u001B[39;00m kwds:\n\u001B[1;32m    119\u001B[0m     kwds[\u001B[39m\"\u001B[39m\u001B[39mwith_labels\u001B[39m\u001B[39m\"\u001B[39m] \u001B[39m=\u001B[39m \u001B[39m\"\u001B[39m\u001B[39mlabels\u001B[39m\u001B[39m\"\u001B[39m \u001B[39min\u001B[39;00m kwds\n\u001B[0;32m--> 121\u001B[0m draw_networkx(G, pos\u001B[39m=\u001B[39;49mpos, ax\u001B[39m=\u001B[39;49max, \u001B[39m*\u001B[39;49m\u001B[39m*\u001B[39;49mkwds)\n\u001B[1;32m    122\u001B[0m ax\u001B[39m.\u001B[39mset_axis_off()\n\u001B[1;32m    123\u001B[0m plt\u001B[39m.\u001B[39mdraw_if_interactive()\n",
      "File \u001B[0;32m/opt/homebrew/lib/python3.10/site-packages/networkx/drawing/nx_pylab.py:301\u001B[0m, in \u001B[0;36mdraw_networkx\u001B[0;34m(G, pos, arrows, with_labels, **kwds)\u001B[0m\n\u001B[1;32m    298\u001B[0m label_kwds \u001B[39m=\u001B[39m {k: v \u001B[39mfor\u001B[39;00m k, v \u001B[39min\u001B[39;00m kwds\u001B[39m.\u001B[39mitems() \u001B[39mif\u001B[39;00m k \u001B[39min\u001B[39;00m valid_label_kwds}\n\u001B[1;32m    300\u001B[0m \u001B[39mif\u001B[39;00m pos \u001B[39mis\u001B[39;00m \u001B[39mNone\u001B[39;00m:\n\u001B[0;32m--> 301\u001B[0m     pos \u001B[39m=\u001B[39m nx\u001B[39m.\u001B[39;49mdrawing\u001B[39m.\u001B[39;49mspring_layout(G)  \u001B[39m# default to spring layout\u001B[39;00m\n\u001B[1;32m    303\u001B[0m draw_networkx_nodes(G, pos, \u001B[39m*\u001B[39m\u001B[39m*\u001B[39mnode_kwds)\n\u001B[1;32m    304\u001B[0m draw_networkx_edges(G, pos, arrows\u001B[39m=\u001B[39marrows, \u001B[39m*\u001B[39m\u001B[39m*\u001B[39medge_kwds)\n",
      "File \u001B[0;32m<class 'networkx.utils.decorators.argmap'> compilation 4:4\u001B[0m, in \u001B[0;36margmap_spring_layout_1\u001B[0;34m(G, k, pos, fixed, iterations, threshold, weight, scale, center, dim, seed)\u001B[0m\n\u001B[1;32m      2\u001B[0m \u001B[39mimport\u001B[39;00m \u001B[39mcollections\u001B[39;00m\n\u001B[1;32m      3\u001B[0m \u001B[39mimport\u001B[39;00m \u001B[39mgzip\u001B[39;00m\n\u001B[0;32m----> 4\u001B[0m \u001B[39mimport\u001B[39;00m \u001B[39minspect\u001B[39;00m\n\u001B[1;32m      5\u001B[0m \u001B[39mimport\u001B[39;00m \u001B[39mitertools\u001B[39;00m\n\u001B[1;32m      6\u001B[0m \u001B[39mimport\u001B[39;00m \u001B[39mre\u001B[39;00m\n",
      "File \u001B[0;32m/opt/homebrew/lib/python3.10/site-packages/networkx/drawing/layout.py:481\u001B[0m, in \u001B[0;36mspring_layout\u001B[0;34m(G, k, pos, fixed, iterations, threshold, weight, scale, center, dim, seed)\u001B[0m\n\u001B[1;32m    479\u001B[0m         nnodes, _ \u001B[39m=\u001B[39m A\u001B[39m.\u001B[39mshape\n\u001B[1;32m    480\u001B[0m         k \u001B[39m=\u001B[39m dom_size \u001B[39m/\u001B[39m np\u001B[39m.\u001B[39msqrt(nnodes)\n\u001B[0;32m--> 481\u001B[0m     pos \u001B[39m=\u001B[39m _sparse_fruchterman_reingold(\n\u001B[1;32m    482\u001B[0m         A, k, pos_arr, fixed, iterations, threshold, dim, seed\n\u001B[1;32m    483\u001B[0m     )\n\u001B[1;32m    484\u001B[0m \u001B[39mexcept\u001B[39;00m \u001B[39mValueError\u001B[39;00m:\n\u001B[1;32m    485\u001B[0m     A \u001B[39m=\u001B[39m nx\u001B[39m.\u001B[39mto_numpy_array(G, weight\u001B[39m=\u001B[39mweight)\n",
      "File \u001B[0;32m<class 'networkx.utils.decorators.argmap'> compilation 8:4\u001B[0m, in \u001B[0;36margmap__sparse_fruchterman_reingold_5\u001B[0;34m(A, k, pos, fixed, iterations, threshold, dim, seed)\u001B[0m\n\u001B[1;32m      2\u001B[0m \u001B[39mimport\u001B[39;00m \u001B[39mcollections\u001B[39;00m\n\u001B[1;32m      3\u001B[0m \u001B[39mimport\u001B[39;00m \u001B[39mgzip\u001B[39;00m\n\u001B[0;32m----> 4\u001B[0m \u001B[39mimport\u001B[39;00m \u001B[39minspect\u001B[39;00m\n\u001B[1;32m      5\u001B[0m \u001B[39mimport\u001B[39;00m \u001B[39mitertools\u001B[39;00m\n\u001B[1;32m      6\u001B[0m \u001B[39mimport\u001B[39;00m \u001B[39mre\u001B[39;00m\n",
      "File \u001B[0;32m/opt/homebrew/lib/python3.10/site-packages/networkx/drawing/layout.py:617\u001B[0m, in \u001B[0;36m_sparse_fruchterman_reingold\u001B[0;34m(A, k, pos, fixed, iterations, threshold, dim, seed)\u001B[0m\n\u001B[1;32m    615\u001B[0m delta \u001B[39m=\u001B[39m (pos[i] \u001B[39m-\u001B[39m pos)\u001B[39m.\u001B[39mT\n\u001B[1;32m    616\u001B[0m \u001B[39m# distance between points\u001B[39;00m\n\u001B[0;32m--> 617\u001B[0m distance \u001B[39m=\u001B[39m np\u001B[39m.\u001B[39msqrt((delta\u001B[39m*\u001B[39;49m\u001B[39m*\u001B[39;49m\u001B[39m2\u001B[39;49m)\u001B[39m.\u001B[39;49msum(axis\u001B[39m=\u001B[39;49m\u001B[39m0\u001B[39;49m))\n\u001B[1;32m    618\u001B[0m \u001B[39m# enforce minimum distance of 0.01\u001B[39;00m\n\u001B[1;32m    619\u001B[0m distance \u001B[39m=\u001B[39m np\u001B[39m.\u001B[39mwhere(distance \u001B[39m<\u001B[39m \u001B[39m0.01\u001B[39m, \u001B[39m0.01\u001B[39m, distance)\n",
      "File \u001B[0;32m/opt/homebrew/lib/python3.10/site-packages/numpy/core/_methods.py:46\u001B[0m, in \u001B[0;36m_sum\u001B[0;34m(a, axis, dtype, out, keepdims, initial, where)\u001B[0m\n\u001B[1;32m     42\u001B[0m \u001B[39mdef\u001B[39;00m \u001B[39m_amin\u001B[39m(a, axis\u001B[39m=\u001B[39m\u001B[39mNone\u001B[39;00m, out\u001B[39m=\u001B[39m\u001B[39mNone\u001B[39;00m, keepdims\u001B[39m=\u001B[39m\u001B[39mFalse\u001B[39;00m,\n\u001B[1;32m     43\u001B[0m           initial\u001B[39m=\u001B[39m_NoValue, where\u001B[39m=\u001B[39m\u001B[39mTrue\u001B[39;00m):\n\u001B[1;32m     44\u001B[0m     \u001B[39mreturn\u001B[39;00m umr_minimum(a, axis, \u001B[39mNone\u001B[39;00m, out, keepdims, initial, where)\n\u001B[0;32m---> 46\u001B[0m \u001B[39mdef\u001B[39;00m \u001B[39m_sum\u001B[39m(a, axis\u001B[39m=\u001B[39m\u001B[39mNone\u001B[39;00m, dtype\u001B[39m=\u001B[39m\u001B[39mNone\u001B[39;00m, out\u001B[39m=\u001B[39m\u001B[39mNone\u001B[39;00m, keepdims\u001B[39m=\u001B[39m\u001B[39mFalse\u001B[39;00m,\n\u001B[1;32m     47\u001B[0m          initial\u001B[39m=\u001B[39m_NoValue, where\u001B[39m=\u001B[39m\u001B[39mTrue\u001B[39;00m):\n\u001B[1;32m     48\u001B[0m     \u001B[39mreturn\u001B[39;00m umr_sum(a, axis, dtype, out, keepdims, initial, where)\n\u001B[1;32m     50\u001B[0m \u001B[39mdef\u001B[39;00m \u001B[39m_prod\u001B[39m(a, axis\u001B[39m=\u001B[39m\u001B[39mNone\u001B[39;00m, dtype\u001B[39m=\u001B[39m\u001B[39mNone\u001B[39;00m, out\u001B[39m=\u001B[39m\u001B[39mNone\u001B[39;00m, keepdims\u001B[39m=\u001B[39m\u001B[39mFalse\u001B[39;00m,\n\u001B[1;32m     51\u001B[0m           initial\u001B[39m=\u001B[39m_NoValue, where\u001B[39m=\u001B[39m\u001B[39mTrue\u001B[39;00m):\n",
      "\u001B[0;31mKeyboardInterrupt\u001B[0m: "
     ]
    },
    {
     "data": {
      "image/png": "[encoded data removed]",
      "text/plain": [
       "<Figure size 640x480 with 1 Axes>"
      ]
     },
     "metadata": {},
     "output_type": "display_data"
    }
   ],
   "source": [
    "G = nx.Graph()\n",
    "\n",
    "sampled_wiki_graph = wiki_graph#.sample(100, replace=False)\n",
    "counter = 0\n",
    "for ind in sampled_wiki_graph.index:\n",
    "    counter +=1\n",
    "    node_name = wiki_graph[\"article\"][ind]\n",
    "    node_links = wiki_graph[\"links\"][ind]\n",
    "    if(len(node_links) == 0):\n",
    "        print(node_name)\n",
    "        print(\"??\")\n",
    "        break\n",
    "    for l in node_links:\n",
    "        G.add_edge(node_name, l)\n",
    "\n",
    "print(G.number_of_nodes())\n",
    "print(G.number_of_edges())\n",
    "print(counter)\n",
    "\n",
    "nx.draw(G, with_labels=False, node_size=0.1)\n",
    "plt.draw()\n",
    "plt.savefig(\"wikispeedia_graph.pdf\")"
   ]
  },
  {
   "cell_type": "code",
   "execution_count": 47,
   "metadata": {},
   "outputs": [
    {
     "name": "stdout",
     "output_type": "stream",
     "text": [
      "United_States -> 0.0073487693403575405\n",
      "United_Kingdom -> 0.00458076938779606\n",
      "Europe -> 0.004353391538443455\n",
      "France -> 0.004157386167202908\n",
      "England -> 0.0036954152923990924\n",
      "Germany -> 0.0033470404654848645\n",
      "World_War_II -> 0.003344467147522731\n",
      "Scientific_classification -> 0.0028688381329989134\n",
      "London -> 0.0028377288959734394\n",
      "English_language -> 0.0027092009622877904\n"
     ]
    }
   ],
   "source": [
    "# graph analytics\n",
    "pagerankDict = nx.pagerank(G, alpha=0.9)\n",
    "\n",
    "topN = 10\n",
    "top_tuples = sort_dict_by_value(pagerankDict)[:topN]\n",
    "for (key,value) in top_tuples:\n",
    "    print(key,\"->\",value)"
   ]
  },
  {
   "cell_type": "code",
   "execution_count": 63,
   "metadata": {},
   "outputs": [
    {
     "name": "stdout",
     "output_type": "stream",
     "text": [
      "3\n",
      "4589\n",
      "4592\n"
     ]
    }
   ],
   "source": [
    "print(len(list(nx.connected_components(G))[1]))\n",
    "print(len(list(nx.connected_components(G))[0]))\n",
    "print(G.number_of_nodes())"
   ]
  },
  {
   "cell_type": "markdown",
   "metadata": {},
   "source": [
    "## Analyze the paths"
   ]
  },
  {
   "cell_type": "code",
   "execution_count": null,
   "metadata": {},
   "outputs": [],
   "source": [
    "def quantize_path(str_path):\n",
    "    return str_path.split(\";\")\n",
    "\n",
    "def get_start_node(list_path):\n",
    "    return list_path[0]\n",
    "\n",
    "def get_target_node(list_path):\n",
    "    return list_path[len(list_path)-1]"
   ]
  },
  {
   "cell_type": "code",
   "execution_count": null,
   "metadata": {},
   "outputs": [
    {
     "data": {
      "text/html": [
       "<div>\n",
       "<style scoped>\n",
       "    .dataframe tbody tr th:only-of-type {\n",
       "        vertical-align: middle;\n",
       "    }\n",
       "\n",
       "    .dataframe tbody tr th {\n",
       "        vertical-align: top;\n",
       "    }\n",
       "\n",
       "    .dataframe thead th {\n",
       "        text-align: right;\n",
       "    }\n",
       "</style>\n",
       "<table border=\"1\" class=\"dataframe\">\n",
       "  <thead>\n",
       "    <tr style=\"text-align: right;\">\n",
       "      <th></th>\n",
       "      <th>durationInSec</th>\n",
       "      <th>path</th>\n",
       "      <th>rating</th>\n",
       "      <th>status</th>\n",
       "      <th>start</th>\n",
       "      <th>target</th>\n",
       "    </tr>\n",
       "  </thead>\n",
       "  <tbody>\n",
       "    <tr>\n",
       "      <th>51313</th>\n",
       "      <td>66</td>\n",
       "      <td>[Yagan, Ancient_Egypt, Civilization]</td>\n",
       "      <td>NaN</td>\n",
       "      <td>Success</td>\n",
       "      <td>Yagan</td>\n",
       "      <td>Civilization</td>\n",
       "    </tr>\n",
       "    <tr>\n",
       "      <th>51314</th>\n",
       "      <td>165</td>\n",
       "      <td>[Yagan, Folklore, Brothers_Grimm, &lt;, 19th_cent...</td>\n",
       "      <td>3.0</td>\n",
       "      <td>Success</td>\n",
       "      <td>Yagan</td>\n",
       "      <td>Fiction</td>\n",
       "    </tr>\n",
       "    <tr>\n",
       "      <th>51315</th>\n",
       "      <td>228</td>\n",
       "      <td>[Yagan, Australia, England, France, United_Sta...</td>\n",
       "      <td>NaN</td>\n",
       "      <td>Success</td>\n",
       "      <td>Yagan</td>\n",
       "      <td>U.S._Open_%28tennis%29</td>\n",
       "    </tr>\n",
       "    <tr>\n",
       "      <th>51316</th>\n",
       "      <td>56</td>\n",
       "      <td>[Yarralumla%2C_Australian_Capital_Territory, A...</td>\n",
       "      <td>1.0</td>\n",
       "      <td>Success</td>\n",
       "      <td>Yarralumla%2C_Australian_Capital_Territory</td>\n",
       "      <td>Abraham_Lincoln</td>\n",
       "    </tr>\n",
       "    <tr>\n",
       "      <th>51317</th>\n",
       "      <td>30</td>\n",
       "      <td>[Ziad_Jarrah, Germany, Jew]</td>\n",
       "      <td>NaN</td>\n",
       "      <td>Success</td>\n",
       "      <td>Ziad_Jarrah</td>\n",
       "      <td>Jew</td>\n",
       "    </tr>\n",
       "  </tbody>\n",
       "</table>\n",
       "</div>"
      ],
      "text/plain": [
       "       durationInSec                                               path  \\\n",
       "51313             66               [Yagan, Ancient_Egypt, Civilization]   \n",
       "51314            165  [Yagan, Folklore, Brothers_Grimm, <, 19th_cent...   \n",
       "51315            228  [Yagan, Australia, England, France, United_Sta...   \n",
       "51316             56  [Yarralumla%2C_Australian_Capital_Territory, A...   \n",
       "51317             30                        [Ziad_Jarrah, Germany, Jew]   \n",
       "\n",
       "       rating   status                                       start  \\\n",
       "51313     NaN  Success                                       Yagan   \n",
       "51314     3.0  Success                                       Yagan   \n",
       "51315     NaN  Success                                       Yagan   \n",
       "51316     1.0  Success  Yarralumla%2C_Australian_Capital_Territory   \n",
       "51317     NaN  Success                                 Ziad_Jarrah   \n",
       "\n",
       "                       target  \n",
       "51313            Civilization  \n",
       "51314                 Fiction  \n",
       "51315  U.S._Open_%28tennis%29  \n",
       "51316         Abraham_Lincoln  \n",
       "51317                     Jew  "
      ]
     },
     "metadata": {},
     "output_type": "display_data"
    }
   ],
   "source": [
    "paths_finished = pd.read_csv(\n",
    "    \"data/graph/paths_finished.tsv\",\n",
    "    skiprows=15,\n",
    "    sep=\"\\t\",\n",
    "    names=[\"hashedIpAddress\", \"timestamp\", \"durationInSec\", \"path\", \"rating\", \"status\",\"start\", \"target\"],\n",
    ")\n",
    "\n",
    "paths_finished[\"status\"] = [\"Success\" for x in range(len(paths_finished.index))]\n",
    "#paths_finished[\"type\"] = [\"Success\" for x in range(len(paths_finished.index))]\n",
    "\n",
    "paths_finished[\"path\"] = paths_finished[\"path\"].apply(quantize_path)\n",
    "paths_finished[\"start\"] = paths_finished[\"path\"].apply(get_start_node)\n",
    "paths_finished[\"target\"] = paths_finished[\"path\"].apply(get_target_node)\n",
    "\n",
    "paths_finished = paths_finished.drop(columns=[\"hashedIpAddress\", \"timestamp\"])\n",
    "\n",
    "paths_finished.tail()"
   ]
  },
  {
   "cell_type": "code",
   "execution_count": null,
   "metadata": {},
   "outputs": [
    {
     "data": {
      "text/html": [
       "<div>\n",
       "<style scoped>\n",
       "    .dataframe tbody tr th:only-of-type {\n",
       "        vertical-align: middle;\n",
       "    }\n",
       "\n",
       "    .dataframe tbody tr th {\n",
       "        vertical-align: top;\n",
       "    }\n",
       "\n",
       "    .dataframe thead th {\n",
       "        text-align: right;\n",
       "    }\n",
       "</style>\n",
       "<table border=\"1\" class=\"dataframe\">\n",
       "  <thead>\n",
       "    <tr style=\"text-align: right;\">\n",
       "      <th></th>\n",
       "      <th>durationInSec</th>\n",
       "      <th>path</th>\n",
       "      <th>target</th>\n",
       "      <th>type</th>\n",
       "      <th>status</th>\n",
       "      <th>start</th>\n",
       "    </tr>\n",
       "  </thead>\n",
       "  <tbody>\n",
       "    <tr>\n",
       "      <th>1</th>\n",
       "      <td>49</td>\n",
       "      <td>[Paraguay]</td>\n",
       "      <td>Mount_St._Helens</td>\n",
       "      <td>restart</td>\n",
       "      <td>Fail</td>\n",
       "      <td>Paraguay</td>\n",
       "    </tr>\n",
       "    <tr>\n",
       "      <th>5</th>\n",
       "      <td>175</td>\n",
       "      <td>[4-2-0, United_States, Agriculture, Sugar, Aus...</td>\n",
       "      <td>Cane_Toad</td>\n",
       "      <td>restart</td>\n",
       "      <td>Fail</td>\n",
       "      <td>4-2-0</td>\n",
       "    </tr>\n",
       "    <tr>\n",
       "      <th>6</th>\n",
       "      <td>19</td>\n",
       "      <td>[Logic]</td>\n",
       "      <td>Moon_landing</td>\n",
       "      <td>restart</td>\n",
       "      <td>Fail</td>\n",
       "      <td>Logic</td>\n",
       "    </tr>\n",
       "    <tr>\n",
       "      <th>9</th>\n",
       "      <td>8</td>\n",
       "      <td>[Niobium]</td>\n",
       "      <td>Beeching_Axe</td>\n",
       "      <td>restart</td>\n",
       "      <td>Fail</td>\n",
       "      <td>Niobium</td>\n",
       "    </tr>\n",
       "    <tr>\n",
       "      <th>10</th>\n",
       "      <td>334</td>\n",
       "      <td>[Saint_Kitts_and_Nevis, United_Kingdom, World_...</td>\n",
       "      <td>Sandy_Koufax</td>\n",
       "      <td>restart</td>\n",
       "      <td>Fail</td>\n",
       "      <td>Saint_Kitts_and_Nevis</td>\n",
       "    </tr>\n",
       "  </tbody>\n",
       "</table>\n",
       "</div>"
      ],
      "text/plain": [
       "    durationInSec                                               path  \\\n",
       "1              49                                         [Paraguay]   \n",
       "5             175  [4-2-0, United_States, Agriculture, Sugar, Aus...   \n",
       "6              19                                            [Logic]   \n",
       "9               8                                          [Niobium]   \n",
       "10            334  [Saint_Kitts_and_Nevis, United_Kingdom, World_...   \n",
       "\n",
       "              target     type status                  start  \n",
       "1   Mount_St._Helens  restart   Fail               Paraguay  \n",
       "5          Cane_Toad  restart   Fail                  4-2-0  \n",
       "6       Moon_landing  restart   Fail                  Logic  \n",
       "9       Beeching_Axe  restart   Fail                Niobium  \n",
       "10      Sandy_Koufax  restart   Fail  Saint_Kitts_and_Nevis  "
      ]
     },
     "metadata": {},
     "output_type": "display_data"
    }
   ],
   "source": [
    "paths_unfinished = pd.read_csv(\n",
    "    \"data/graph/paths_unfinished.tsv\",\n",
    "    skiprows=19,\n",
    "    sep=\"\\t\",\n",
    "    names=[\"hashedIpAddress\", \"timestamp\", \"durationInSec\", \"path\", \"target\", \"type\"],\n",
    ")\n",
    "\n",
    "paths_unfinished = paths_unfinished.drop(columns=[\"hashedIpAddress\", \"timestamp\"])\n",
    "\n",
    "paths_unfinished[\"status\"] = [\"Fail\" for x in range(len(paths_unfinished.index))]\n",
    "#paths_unfinished[\"rating\"] = [-999 for x in range(len(paths_unfinished.index))]\n",
    "\n",
    "paths_unfinished[\"path\"] = paths_unfinished[\"path\"].apply(quantize_path)\n",
    "paths_unfinished[\"start\"] = paths_unfinished[\"path\"].apply(get_start_node)\n",
    "\n",
    "#Should we drop timeouts?\n",
    "paths_unfinished = paths_unfinished[paths_unfinished[\"type\"] != \"timeout\"]\n",
    "\n",
    "paths_unfinished.head()"
   ]
  },
  {
   "cell_type": "code",
   "execution_count": null,
   "metadata": {},
   "outputs": [
    {
     "data": {
      "text/html": [
       "<div>\n",
       "<style scoped>\n",
       "    .dataframe tbody tr th:only-of-type {\n",
       "        vertical-align: middle;\n",
       "    }\n",
       "\n",
       "    .dataframe tbody tr th {\n",
       "        vertical-align: top;\n",
       "    }\n",
       "\n",
       "    .dataframe thead th {\n",
       "        text-align: right;\n",
       "    }\n",
       "</style>\n",
       "<table border=\"1\" class=\"dataframe\">\n",
       "  <thead>\n",
       "    <tr style=\"text-align: right;\">\n",
       "      <th></th>\n",
       "      <th>start</th>\n",
       "      <th>target</th>\n",
       "      <th>status</th>\n",
       "      <th>path</th>\n",
       "    </tr>\n",
       "  </thead>\n",
       "  <tbody>\n",
       "    <tr>\n",
       "      <th>24866</th>\n",
       "      <td>Wine</td>\n",
       "      <td>History_of_post-Soviet_Russia</td>\n",
       "      <td>Fail</td>\n",
       "      <td>[Wine, Georgia_%28country%29, Russia]</td>\n",
       "    </tr>\n",
       "    <tr>\n",
       "      <th>24867</th>\n",
       "      <td>Turks_and_Caicos_Islands</td>\n",
       "      <td>Iraq_War</td>\n",
       "      <td>Fail</td>\n",
       "      <td>[Turks_and_Caicos_Islands, United_States, Iraq...</td>\n",
       "    </tr>\n",
       "    <tr>\n",
       "      <th>24868</th>\n",
       "      <td>Franz_Kafka</td>\n",
       "      <td>Cholera</td>\n",
       "      <td>Fail</td>\n",
       "      <td>[Franz_Kafka, Tuberculosis, World_Health_Organ...</td>\n",
       "    </tr>\n",
       "    <tr>\n",
       "      <th>24869</th>\n",
       "      <td>Modern_history</td>\n",
       "      <td>Hollandic</td>\n",
       "      <td>Fail</td>\n",
       "      <td>[Modern_history]</td>\n",
       "    </tr>\n",
       "    <tr>\n",
       "      <th>24872</th>\n",
       "      <td>Mark_Antony</td>\n",
       "      <td>Feather</td>\n",
       "      <td>Fail</td>\n",
       "      <td>[Mark_Antony, Rome, Tennis, Hawk-Eye, Computer]</td>\n",
       "    </tr>\n",
       "  </tbody>\n",
       "</table>\n",
       "</div>"
      ],
      "text/plain": [
       "                          start                         target status  \\\n",
       "24866                      Wine  History_of_post-Soviet_Russia   Fail   \n",
       "24867  Turks_and_Caicos_Islands                       Iraq_War   Fail   \n",
       "24868               Franz_Kafka                        Cholera   Fail   \n",
       "24869            Modern_history                      Hollandic   Fail   \n",
       "24872               Mark_Antony                        Feather   Fail   \n",
       "\n",
       "                                                    path  \n",
       "24866              [Wine, Georgia_%28country%29, Russia]  \n",
       "24867  [Turks_and_Caicos_Islands, United_States, Iraq...  \n",
       "24868  [Franz_Kafka, Tuberculosis, World_Health_Organ...  \n",
       "24869                                   [Modern_history]  \n",
       "24872    [Mark_Antony, Rome, Tennis, Hawk-Eye, Computer]  "
      ]
     },
     "metadata": {},
     "output_type": "display_data"
    }
   ],
   "source": [
    "red_paths_finished = paths_finished.drop(columns=[\"rating\"])\n",
    "red_paths_unfinished = paths_unfinished.drop(columns=[\"type\"])\n",
    "\n",
    "paths = pd.concat([red_paths_finished,red_paths_unfinished],axis=0).drop(columns=[\"durationInSec\"])\n",
    "\n",
    "paths = paths.reindex(columns=[\"start\",\"target\",\"status\",\"path\"])\n",
    "\n",
    "paths.tail()"
   ]
  },
  {
   "cell_type": "code",
   "execution_count": null,
   "metadata": {},
   "outputs": [
    {
     "data": {
      "text/html": [
       "<div>\n",
       "<style scoped>\n",
       "    .dataframe tbody tr th:only-of-type {\n",
       "        vertical-align: middle;\n",
       "    }\n",
       "\n",
       "    .dataframe tbody tr th {\n",
       "        vertical-align: top;\n",
       "    }\n",
       "\n",
       "    .dataframe thead th {\n",
       "        text-align: right;\n",
       "    }\n",
       "</style>\n",
       "<table border=\"1\" class=\"dataframe\">\n",
       "  <thead>\n",
       "    <tr style=\"text-align: right;\">\n",
       "      <th></th>\n",
       "      <th>start</th>\n",
       "      <th>path</th>\n",
       "      <th>target</th>\n",
       "      <th>failed</th>\n",
       "      <th>rating</th>\n",
       "      <th>type</th>\n",
       "      <th>hashedIpAddress</th>\n",
       "      <th>timestamp</th>\n",
       "      <th>durationInSec</th>\n",
       "    </tr>\n",
       "  </thead>\n",
       "  <tbody>\n",
       "  </tbody>\n",
       "</table>\n",
       "</div>"
      ],
      "text/plain": [
       "Empty DataFrame\n",
       "Columns: [start, path, target, failed, rating, type, hashedIpAddress, timestamp, durationInSec]\n",
       "Index: []"
      ]
     },
     "metadata": {},
     "output_type": "display_data"
    }
   ],
   "source": [
    "paths = pd.DataFrame(columns=[\"start\", \"path\", \"target\", \"failed\", \"rating\", \"type\", \"hashedIpAddress\", \"timestamp\", \"durationInSec\"])\n",
    "paths.head()"
   ]
  }
 ],
 "metadata": {
  "kernelspec": {
   "display_name": "Python 3.10.8 64-bit",
   "language": "python",
   "name": "python3"
  },
  "language_info": {
   "codemirror_mode": {
    "name": "ipython",
    "version": 3
   },
   "file_extension": ".py",
   "mimetype": "text/x-python",
   "name": "python",
   "nbconvert_exporter": "python",
   "pygments_lexer": "ipython3",
   "version": "3.10.8"
  },
  "orig_nbformat": 4,
  "vscode": {
   "interpreter": {
    "hash": "b0fa6594d8f4cbf19f97940f81e996739fb7646882a419484c72d19e05852a7e"
   }
  }
 },
 "nbformat": 4,
 "nbformat_minor": 2
}
