{
 "cells": [
  {
   "cell_type": "markdown",
   "metadata": {},
   "source": [
    "# Initial Analysis - Proposal"
   ]
  },
  {
   "cell_type": "code",
   "execution_count": 51,
   "metadata": {},
   "outputs": [],
   "source": [
    "import pandas as pd\n",
    "import networkx as nx\n",
    "import numpy as np\n",
    "\n",
    "import matplotlib.pyplot as plt\n",
    "from matplotlib import pylab\n"
   ]
  },
  {
   "cell_type": "markdown",
   "metadata": {},
   "source": [
    "## Load the graph data"
   ]
  },
  {
   "cell_type": "code",
   "execution_count": 52,
   "metadata": {},
   "outputs": [
    {
     "name": "stdout",
     "output_type": "stream",
     "text": [
      "True\n"
     ]
    },
    {
     "data": {
      "text/html": [
       "<div>\n",
       "<style scoped>\n",
       "    .dataframe tbody tr th:only-of-type {\n",
       "        vertical-align: middle;\n",
       "    }\n",
       "\n",
       "    .dataframe tbody tr th {\n",
       "        vertical-align: top;\n",
       "    }\n",
       "\n",
       "    .dataframe thead th {\n",
       "        text-align: right;\n",
       "    }\n",
       "</style>\n",
       "<table border=\"1\" class=\"dataframe\">\n",
       "  <thead>\n",
       "    <tr style=\"text-align: right;\">\n",
       "      <th></th>\n",
       "      <th>article</th>\n",
       "    </tr>\n",
       "  </thead>\n",
       "  <tbody>\n",
       "    <tr>\n",
       "      <th>0</th>\n",
       "      <td>%C3%81ed%C3%A1n_mac_Gabr%C3%A1in</td>\n",
       "    </tr>\n",
       "    <tr>\n",
       "      <th>1</th>\n",
       "      <td>%C3%85land</td>\n",
       "    </tr>\n",
       "  </tbody>\n",
       "</table>\n",
       "</div>"
      ],
      "text/plain": [
       "                            article\n",
       "0  %C3%81ed%C3%A1n_mac_Gabr%C3%A1in\n",
       "1                        %C3%85land"
      ]
     },
     "execution_count": 52,
     "metadata": {},
     "output_type": "execute_result"
    }
   ],
   "source": [
    "articles = pd.read_table(\"data/graph/articles.tsv\", skiprows=11, names=[\"article\"])\n",
    "\n",
    "print(articles[\"article\"].is_unique)\n",
    "\n",
    "articles.head(2)\n"
   ]
  },
  {
   "cell_type": "code",
   "execution_count": 39,
   "metadata": {},
   "outputs": [
    {
     "data": {
      "text/html": [
       "<div>\n",
       "<style scoped>\n",
       "    .dataframe tbody tr th:only-of-type {\n",
       "        vertical-align: middle;\n",
       "    }\n",
       "\n",
       "    .dataframe tbody tr th {\n",
       "        vertical-align: top;\n",
       "    }\n",
       "\n",
       "    .dataframe thead th {\n",
       "        text-align: right;\n",
       "    }\n",
       "</style>\n",
       "<table border=\"1\" class=\"dataframe\">\n",
       "  <thead>\n",
       "    <tr style=\"text-align: right;\">\n",
       "      <th></th>\n",
       "      <th>article</th>\n",
       "      <th>category</th>\n",
       "    </tr>\n",
       "  </thead>\n",
       "  <tbody>\n",
       "    <tr>\n",
       "      <th>0</th>\n",
       "      <td>%C3%81ed%C3%A1n_mac_Gabr%C3%A1in</td>\n",
       "      <td>subject.History.British_History.British_Histor...</td>\n",
       "    </tr>\n",
       "    <tr>\n",
       "      <th>1</th>\n",
       "      <td>%C3%81ed%C3%A1n_mac_Gabr%C3%A1in</td>\n",
       "      <td>subject.People.Historical_figures</td>\n",
       "    </tr>\n",
       "  </tbody>\n",
       "</table>\n",
       "</div>"
      ],
      "text/plain": [
       "                            article  \\\n",
       "0  %C3%81ed%C3%A1n_mac_Gabr%C3%A1in   \n",
       "1  %C3%81ed%C3%A1n_mac_Gabr%C3%A1in   \n",
       "\n",
       "                                            category  \n",
       "0  subject.History.British_History.British_Histor...  \n",
       "1                  subject.People.Historical_figures  "
      ]
     },
     "execution_count": 39,
     "metadata": {},
     "output_type": "execute_result"
    }
   ],
   "source": [
    "categories = pd.read_csv(\n",
    "    \"data/graph/categories.tsv\", skiprows=12, sep=\"\\t\", names=[\"article\", \"category\"]\n",
    ")\n",
    "categories.head(2)\n"
   ]
  },
  {
   "cell_type": "code",
   "execution_count": 40,
   "metadata": {},
   "outputs": [
    {
     "data": {
      "text/html": [
       "<div>\n",
       "<style scoped>\n",
       "    .dataframe tbody tr th:only-of-type {\n",
       "        vertical-align: middle;\n",
       "    }\n",
       "\n",
       "    .dataframe tbody tr th {\n",
       "        vertical-align: top;\n",
       "    }\n",
       "\n",
       "    .dataframe thead th {\n",
       "        text-align: right;\n",
       "    }\n",
       "</style>\n",
       "<table border=\"1\" class=\"dataframe\">\n",
       "  <thead>\n",
       "    <tr style=\"text-align: right;\">\n",
       "      <th></th>\n",
       "      <th>article1</th>\n",
       "      <th>article2</th>\n",
       "    </tr>\n",
       "  </thead>\n",
       "  <tbody>\n",
       "    <tr>\n",
       "      <th>119880</th>\n",
       "      <td>Zulu</td>\n",
       "      <td>Zambia</td>\n",
       "    </tr>\n",
       "    <tr>\n",
       "      <th>119881</th>\n",
       "      <td>Zulu</td>\n",
       "      <td>Zimbabwe</td>\n",
       "    </tr>\n",
       "  </tbody>\n",
       "</table>\n",
       "</div>"
      ],
      "text/plain": [
       "       article1  article2\n",
       "119880     Zulu    Zambia\n",
       "119881     Zulu  Zimbabwe"
      ]
     },
     "execution_count": 40,
     "metadata": {},
     "output_type": "execute_result"
    }
   ],
   "source": [
    "links = pd.read_csv(\n",
    "    \"data/graph/links.tsv\", skiprows=11, sep=\"\\t\", names=[\"article1\", \"article2\"]\n",
    ")\n",
    "links.tail(2)\n"
   ]
  },
  {
   "cell_type": "code",
   "execution_count": 68,
   "metadata": {},
   "outputs": [],
   "source": [
    "def quantize_path(str_path):\n",
    "    return str_path.split(\";\")\n",
    "\n",
    "def get_start_node(list_path):\n",
    "    return list_path[0]\n",
    "\n",
    "def get_target_node(list_path):\n",
    "    return list_path[len(list_path)-1]"
   ]
  },
  {
   "cell_type": "code",
   "execution_count": 110,
   "metadata": {},
   "outputs": [
    {
     "data": {
      "text/html": [
       "<div>\n",
       "<style scoped>\n",
       "    .dataframe tbody tr th:only-of-type {\n",
       "        vertical-align: middle;\n",
       "    }\n",
       "\n",
       "    .dataframe tbody tr th {\n",
       "        vertical-align: top;\n",
       "    }\n",
       "\n",
       "    .dataframe thead th {\n",
       "        text-align: right;\n",
       "    }\n",
       "</style>\n",
       "<table border=\"1\" class=\"dataframe\">\n",
       "  <thead>\n",
       "    <tr style=\"text-align: right;\">\n",
       "      <th></th>\n",
       "      <th>durationInSec</th>\n",
       "      <th>path</th>\n",
       "      <th>rating</th>\n",
       "      <th>status</th>\n",
       "      <th>start</th>\n",
       "      <th>target</th>\n",
       "    </tr>\n",
       "  </thead>\n",
       "  <tbody>\n",
       "    <tr>\n",
       "      <th>51313</th>\n",
       "      <td>66</td>\n",
       "      <td>[Yagan, Ancient_Egypt, Civilization]</td>\n",
       "      <td>NaN</td>\n",
       "      <td>Success</td>\n",
       "      <td>Yagan</td>\n",
       "      <td>Civilization</td>\n",
       "    </tr>\n",
       "    <tr>\n",
       "      <th>51314</th>\n",
       "      <td>165</td>\n",
       "      <td>[Yagan, Folklore, Brothers_Grimm, &lt;, 19th_cent...</td>\n",
       "      <td>3.0</td>\n",
       "      <td>Success</td>\n",
       "      <td>Yagan</td>\n",
       "      <td>Fiction</td>\n",
       "    </tr>\n",
       "    <tr>\n",
       "      <th>51315</th>\n",
       "      <td>228</td>\n",
       "      <td>[Yagan, Australia, England, France, United_Sta...</td>\n",
       "      <td>NaN</td>\n",
       "      <td>Success</td>\n",
       "      <td>Yagan</td>\n",
       "      <td>U.S._Open_%28tennis%29</td>\n",
       "    </tr>\n",
       "    <tr>\n",
       "      <th>51316</th>\n",
       "      <td>56</td>\n",
       "      <td>[Yarralumla%2C_Australian_Capital_Territory, A...</td>\n",
       "      <td>1.0</td>\n",
       "      <td>Success</td>\n",
       "      <td>Yarralumla%2C_Australian_Capital_Territory</td>\n",
       "      <td>Abraham_Lincoln</td>\n",
       "    </tr>\n",
       "    <tr>\n",
       "      <th>51317</th>\n",
       "      <td>30</td>\n",
       "      <td>[Ziad_Jarrah, Germany, Jew]</td>\n",
       "      <td>NaN</td>\n",
       "      <td>Success</td>\n",
       "      <td>Ziad_Jarrah</td>\n",
       "      <td>Jew</td>\n",
       "    </tr>\n",
       "  </tbody>\n",
       "</table>\n",
       "</div>"
      ],
      "text/plain": [
       "       durationInSec                                               path  \\\n",
       "51313             66               [Yagan, Ancient_Egypt, Civilization]   \n",
       "51314            165  [Yagan, Folklore, Brothers_Grimm, <, 19th_cent...   \n",
       "51315            228  [Yagan, Australia, England, France, United_Sta...   \n",
       "51316             56  [Yarralumla%2C_Australian_Capital_Territory, A...   \n",
       "51317             30                        [Ziad_Jarrah, Germany, Jew]   \n",
       "\n",
       "       rating   status                                       start  \\\n",
       "51313     NaN  Success                                       Yagan   \n",
       "51314     3.0  Success                                       Yagan   \n",
       "51315     NaN  Success                                       Yagan   \n",
       "51316     1.0  Success  Yarralumla%2C_Australian_Capital_Territory   \n",
       "51317     NaN  Success                                 Ziad_Jarrah   \n",
       "\n",
       "                       target  \n",
       "51313            Civilization  \n",
       "51314                 Fiction  \n",
       "51315  U.S._Open_%28tennis%29  \n",
       "51316         Abraham_Lincoln  \n",
       "51317                     Jew  "
      ]
     },
     "execution_count": 110,
     "metadata": {},
     "output_type": "execute_result"
    }
   ],
   "source": [
    "paths_finished = pd.read_csv(\n",
    "    \"data/graph/paths_finished.tsv\",\n",
    "    skiprows=15,\n",
    "    sep=\"\\t\",\n",
    "    names=[\"hashedIpAddress\", \"timestamp\", \"durationInSec\", \"path\", \"rating\", \"status\",\"start\", \"target\"],\n",
    ")\n",
    "\n",
    "paths_finished[\"status\"] = [\"Success\" for x in range(len(paths_finished.index))]\n",
    "#paths_finished[\"type\"] = [\"Success\" for x in range(len(paths_finished.index))]\n",
    "\n",
    "paths_finished[\"path\"] = paths_finished[\"path\"].apply(quantize_path)\n",
    "paths_finished[\"start\"] = paths_finished[\"path\"].apply(get_start_node)\n",
    "paths_finished[\"target\"] = paths_finished[\"path\"].apply(get_target_node)\n",
    "\n",
    "paths_finished = paths_finished.drop(columns=[\"hashedIpAddress\", \"timestamp\"])\n",
    "\n",
    "paths_finished.tail()"
   ]
  },
  {
   "cell_type": "code",
   "execution_count": 111,
   "metadata": {},
   "outputs": [
    {
     "data": {
      "text/html": [
       "<div>\n",
       "<style scoped>\n",
       "    .dataframe tbody tr th:only-of-type {\n",
       "        vertical-align: middle;\n",
       "    }\n",
       "\n",
       "    .dataframe tbody tr th {\n",
       "        vertical-align: top;\n",
       "    }\n",
       "\n",
       "    .dataframe thead th {\n",
       "        text-align: right;\n",
       "    }\n",
       "</style>\n",
       "<table border=\"1\" class=\"dataframe\">\n",
       "  <thead>\n",
       "    <tr style=\"text-align: right;\">\n",
       "      <th></th>\n",
       "      <th>durationInSec</th>\n",
       "      <th>path</th>\n",
       "      <th>target</th>\n",
       "      <th>type</th>\n",
       "      <th>status</th>\n",
       "      <th>start</th>\n",
       "    </tr>\n",
       "  </thead>\n",
       "  <tbody>\n",
       "    <tr>\n",
       "      <th>1</th>\n",
       "      <td>49</td>\n",
       "      <td>[Paraguay]</td>\n",
       "      <td>Mount_St._Helens</td>\n",
       "      <td>restart</td>\n",
       "      <td>Fail</td>\n",
       "      <td>Paraguay</td>\n",
       "    </tr>\n",
       "    <tr>\n",
       "      <th>5</th>\n",
       "      <td>175</td>\n",
       "      <td>[4-2-0, United_States, Agriculture, Sugar, Aus...</td>\n",
       "      <td>Cane_Toad</td>\n",
       "      <td>restart</td>\n",
       "      <td>Fail</td>\n",
       "      <td>4-2-0</td>\n",
       "    </tr>\n",
       "    <tr>\n",
       "      <th>6</th>\n",
       "      <td>19</td>\n",
       "      <td>[Logic]</td>\n",
       "      <td>Moon_landing</td>\n",
       "      <td>restart</td>\n",
       "      <td>Fail</td>\n",
       "      <td>Logic</td>\n",
       "    </tr>\n",
       "    <tr>\n",
       "      <th>9</th>\n",
       "      <td>8</td>\n",
       "      <td>[Niobium]</td>\n",
       "      <td>Beeching_Axe</td>\n",
       "      <td>restart</td>\n",
       "      <td>Fail</td>\n",
       "      <td>Niobium</td>\n",
       "    </tr>\n",
       "    <tr>\n",
       "      <th>10</th>\n",
       "      <td>334</td>\n",
       "      <td>[Saint_Kitts_and_Nevis, United_Kingdom, World_...</td>\n",
       "      <td>Sandy_Koufax</td>\n",
       "      <td>restart</td>\n",
       "      <td>Fail</td>\n",
       "      <td>Saint_Kitts_and_Nevis</td>\n",
       "    </tr>\n",
       "  </tbody>\n",
       "</table>\n",
       "</div>"
      ],
      "text/plain": [
       "    durationInSec                                               path  \\\n",
       "1              49                                         [Paraguay]   \n",
       "5             175  [4-2-0, United_States, Agriculture, Sugar, Aus...   \n",
       "6              19                                            [Logic]   \n",
       "9               8                                          [Niobium]   \n",
       "10            334  [Saint_Kitts_and_Nevis, United_Kingdom, World_...   \n",
       "\n",
       "              target     type status                  start  \n",
       "1   Mount_St._Helens  restart   Fail               Paraguay  \n",
       "5          Cane_Toad  restart   Fail                  4-2-0  \n",
       "6       Moon_landing  restart   Fail                  Logic  \n",
       "9       Beeching_Axe  restart   Fail                Niobium  \n",
       "10      Sandy_Koufax  restart   Fail  Saint_Kitts_and_Nevis  "
      ]
     },
     "execution_count": 111,
     "metadata": {},
     "output_type": "execute_result"
    }
   ],
   "source": [
    "paths_unfinished = pd.read_csv(\n",
    "    \"data/graph/paths_unfinished.tsv\",\n",
    "    skiprows=19,\n",
    "    sep=\"\\t\",\n",
    "    names=[\"hashedIpAddress\", \"timestamp\", \"durationInSec\", \"path\", \"target\", \"type\"],\n",
    ")\n",
    "\n",
    "paths_unfinished = paths_unfinished.drop(columns=[\"hashedIpAddress\", \"timestamp\"])\n",
    "\n",
    "paths_unfinished[\"status\"] = [\"Fail\" for x in range(len(paths_unfinished.index))]\n",
    "#paths_unfinished[\"rating\"] = [-999 for x in range(len(paths_unfinished.index))]\n",
    "\n",
    "paths_unfinished[\"path\"] = paths_unfinished[\"path\"].apply(quantize_path)\n",
    "paths_unfinished[\"start\"] = paths_unfinished[\"path\"].apply(get_start_node)\n",
    "\n",
    "#Should we drop timeouts?\n",
    "paths_unfinished = paths_unfinished[paths_unfinished[\"type\"] != \"timeout\"]\n",
    "\n",
    "paths_unfinished.head()"
   ]
  },
  {
   "cell_type": "code",
   "execution_count": 114,
   "metadata": {},
   "outputs": [
    {
     "data": {
      "text/html": [
       "<div>\n",
       "<style scoped>\n",
       "    .dataframe tbody tr th:only-of-type {\n",
       "        vertical-align: middle;\n",
       "    }\n",
       "\n",
       "    .dataframe tbody tr th {\n",
       "        vertical-align: top;\n",
       "    }\n",
       "\n",
       "    .dataframe thead th {\n",
       "        text-align: right;\n",
       "    }\n",
       "</style>\n",
       "<table border=\"1\" class=\"dataframe\">\n",
       "  <thead>\n",
       "    <tr style=\"text-align: right;\">\n",
       "      <th></th>\n",
       "      <th>start</th>\n",
       "      <th>target</th>\n",
       "      <th>status</th>\n",
       "      <th>path</th>\n",
       "    </tr>\n",
       "  </thead>\n",
       "  <tbody>\n",
       "    <tr>\n",
       "      <th>24866</th>\n",
       "      <td>Wine</td>\n",
       "      <td>History_of_post-Soviet_Russia</td>\n",
       "      <td>Fail</td>\n",
       "      <td>[Wine, Georgia_%28country%29, Russia]</td>\n",
       "    </tr>\n",
       "    <tr>\n",
       "      <th>24867</th>\n",
       "      <td>Turks_and_Caicos_Islands</td>\n",
       "      <td>Iraq_War</td>\n",
       "      <td>Fail</td>\n",
       "      <td>[Turks_and_Caicos_Islands, United_States, Iraq...</td>\n",
       "    </tr>\n",
       "    <tr>\n",
       "      <th>24868</th>\n",
       "      <td>Franz_Kafka</td>\n",
       "      <td>Cholera</td>\n",
       "      <td>Fail</td>\n",
       "      <td>[Franz_Kafka, Tuberculosis, World_Health_Organ...</td>\n",
       "    </tr>\n",
       "    <tr>\n",
       "      <th>24869</th>\n",
       "      <td>Modern_history</td>\n",
       "      <td>Hollandic</td>\n",
       "      <td>Fail</td>\n",
       "      <td>[Modern_history]</td>\n",
       "    </tr>\n",
       "    <tr>\n",
       "      <th>24872</th>\n",
       "      <td>Mark_Antony</td>\n",
       "      <td>Feather</td>\n",
       "      <td>Fail</td>\n",
       "      <td>[Mark_Antony, Rome, Tennis, Hawk-Eye, Computer]</td>\n",
       "    </tr>\n",
       "  </tbody>\n",
       "</table>\n",
       "</div>"
      ],
      "text/plain": [
       "                          start                         target status  \\\n",
       "24866                      Wine  History_of_post-Soviet_Russia   Fail   \n",
       "24867  Turks_and_Caicos_Islands                       Iraq_War   Fail   \n",
       "24868               Franz_Kafka                        Cholera   Fail   \n",
       "24869            Modern_history                      Hollandic   Fail   \n",
       "24872               Mark_Antony                        Feather   Fail   \n",
       "\n",
       "                                                    path  \n",
       "24866              [Wine, Georgia_%28country%29, Russia]  \n",
       "24867  [Turks_and_Caicos_Islands, United_States, Iraq...  \n",
       "24868  [Franz_Kafka, Tuberculosis, World_Health_Organ...  \n",
       "24869                                   [Modern_history]  \n",
       "24872    [Mark_Antony, Rome, Tennis, Hawk-Eye, Computer]  "
      ]
     },
     "execution_count": 114,
     "metadata": {},
     "output_type": "execute_result"
    }
   ],
   "source": [
    "red_paths_finished = paths_finished.drop(columns=[\"rating\"])\n",
    "red_paths_unfinished = paths_unfinished.drop(columns=[\"type\"])\n",
    "\n",
    "paths = pd.concat([red_paths_finished,red_paths_unfinished],axis=0).drop(columns=[\"durationInSec\"])\n",
    "\n",
    "paths = paths.reindex(columns=[\"start\",\"target\",\"status\",\"path\"])\n",
    "\n",
    "paths.tail()"
   ]
  },
  {
   "cell_type": "code",
   "execution_count": 117,
   "metadata": {},
   "outputs": [
    {
     "data": {
      "text/html": [
       "<div>\n",
       "<style scoped>\n",
       "    .dataframe tbody tr th:only-of-type {\n",
       "        vertical-align: middle;\n",
       "    }\n",
       "\n",
       "    .dataframe tbody tr th {\n",
       "        vertical-align: top;\n",
       "    }\n",
       "\n",
       "    .dataframe thead th {\n",
       "        text-align: right;\n",
       "    }\n",
       "</style>\n",
       "<table border=\"1\" class=\"dataframe\">\n",
       "  <thead>\n",
       "    <tr style=\"text-align: right;\">\n",
       "      <th></th>\n",
       "      <th>start</th>\n",
       "      <th>status</th>\n",
       "      <th>path</th>\n",
       "    </tr>\n",
       "    <tr>\n",
       "      <th>target</th>\n",
       "      <th></th>\n",
       "      <th></th>\n",
       "      <th></th>\n",
       "    </tr>\n",
       "  </thead>\n",
       "  <tbody>\n",
       "    <tr>\n",
       "      <th>10th_century</th>\n",
       "      <td>7</td>\n",
       "      <td>7</td>\n",
       "      <td>7</td>\n",
       "    </tr>\n",
       "    <tr>\n",
       "      <th>11th_century</th>\n",
       "      <td>11</td>\n",
       "      <td>11</td>\n",
       "      <td>11</td>\n",
       "    </tr>\n",
       "    <tr>\n",
       "      <th>12th_century</th>\n",
       "      <td>10</td>\n",
       "      <td>10</td>\n",
       "      <td>10</td>\n",
       "    </tr>\n",
       "    <tr>\n",
       "      <th>13th_century</th>\n",
       "      <td>31</td>\n",
       "      <td>31</td>\n",
       "      <td>31</td>\n",
       "    </tr>\n",
       "    <tr>\n",
       "      <th>14th_century</th>\n",
       "      <td>7</td>\n",
       "      <td>7</td>\n",
       "      <td>7</td>\n",
       "    </tr>\n",
       "  </tbody>\n",
       "</table>\n",
       "</div>"
      ],
      "text/plain": [
       "              start  status  path\n",
       "target                           \n",
       "10th_century      7       7     7\n",
       "11th_century     11      11    11\n",
       "12th_century     10      10    10\n",
       "13th_century     31      31    31\n",
       "14th_century      7       7     7"
      ]
     },
     "execution_count": 117,
     "metadata": {},
     "output_type": "execute_result"
    }
   ],
   "source": [
    "paths.groupby(\"start\").count().head()"
   ]
  },
  {
   "cell_type": "markdown",
   "metadata": {},
   "source": [
    "## Analyzing the data"
   ]
  },
  {
   "cell_type": "code",
   "execution_count": 53,
   "metadata": {},
   "outputs": [
    {
     "data": {
      "text/html": [
       "<div>\n",
       "<style scoped>\n",
       "    .dataframe tbody tr th:only-of-type {\n",
       "        vertical-align: middle;\n",
       "    }\n",
       "\n",
       "    .dataframe tbody tr th {\n",
       "        vertical-align: top;\n",
       "    }\n",
       "\n",
       "    .dataframe thead th {\n",
       "        text-align: right;\n",
       "    }\n",
       "</style>\n",
       "<table border=\"1\" class=\"dataframe\">\n",
       "  <thead>\n",
       "    <tr style=\"text-align: right;\">\n",
       "      <th></th>\n",
       "      <th>article</th>\n",
       "      <th>category</th>\n",
       "      <th>links</th>\n",
       "      <th>links_count</th>\n",
       "    </tr>\n",
       "  </thead>\n",
       "  <tbody>\n",
       "    <tr>\n",
       "      <th>4599</th>\n",
       "      <td>Zionism</td>\n",
       "      <td>[subject.People.Political_People, subject.Reli...</td>\n",
       "      <td>[18th_century, 19th_century, Adolf_Hitler, Alb...</td>\n",
       "      <td>74</td>\n",
       "    </tr>\n",
       "    <tr>\n",
       "      <th>4600</th>\n",
       "      <td>Zirconium</td>\n",
       "      <td>[subject.Science.Chemistry.Chemical_elements]</td>\n",
       "      <td>[Aluminium, Arabic_language, Australia, Bicycl...</td>\n",
       "      <td>42</td>\n",
       "    </tr>\n",
       "    <tr>\n",
       "      <th>4601</th>\n",
       "      <td>Zoroaster</td>\n",
       "      <td>[subject.People.Religious_figures_and_leaders]</td>\n",
       "      <td>[18th_century, 9th_century, Afghanistan, Age_o...</td>\n",
       "      <td>28</td>\n",
       "    </tr>\n",
       "    <tr>\n",
       "      <th>4602</th>\n",
       "      <td>Zuid-Gelders</td>\n",
       "      <td>[subject.Geography.European_Geography, subject...</td>\n",
       "      <td>[Brabantian, Dutch_language, East_Flemish, Hol...</td>\n",
       "      <td>5</td>\n",
       "    </tr>\n",
       "    <tr>\n",
       "      <th>4603</th>\n",
       "      <td>Zulu</td>\n",
       "      <td>[subject.Geography.African_Geography]</td>\n",
       "      <td>[AK-47, Bantu, Cape_Town, Christianity, Englis...</td>\n",
       "      <td>15</td>\n",
       "    </tr>\n",
       "  </tbody>\n",
       "</table>\n",
       "</div>"
      ],
      "text/plain": [
       "           article                                           category  \\\n",
       "4599       Zionism  [subject.People.Political_People, subject.Reli...   \n",
       "4600     Zirconium      [subject.Science.Chemistry.Chemical_elements]   \n",
       "4601     Zoroaster     [subject.People.Religious_figures_and_leaders]   \n",
       "4602  Zuid-Gelders  [subject.Geography.European_Geography, subject...   \n",
       "4603          Zulu              [subject.Geography.African_Geography]   \n",
       "\n",
       "                                                  links  links_count  \n",
       "4599  [18th_century, 19th_century, Adolf_Hitler, Alb...           74  \n",
       "4600  [Aluminium, Arabic_language, Australia, Bicycl...           42  \n",
       "4601  [18th_century, 9th_century, Afghanistan, Age_o...           28  \n",
       "4602  [Brabantian, Dutch_language, East_Flemish, Hol...            5  \n",
       "4603  [AK-47, Bantu, Cape_Town, Christianity, Englis...           15  "
      ]
     },
     "execution_count": 53,
     "metadata": {},
     "output_type": "execute_result"
    }
   ],
   "source": [
    "wiki_graph = pd.DataFrame(columns=[\"article\", \"category\", \"links\", \"links_count\"])\n",
    "\n",
    "wiki_graph[\"article\"] = articles[\"article\"]\n",
    "\n",
    "wiki_graph[\"links\"] = [list() for x in range(len(wiki_graph.index))]\n",
    "wiki_graph[\"links_count\"] = [0 for x in range(len(wiki_graph.index))]\n",
    "\n",
    "grouped_categories = categories.groupby(\"article\")\n",
    "for entry in grouped_categories:\n",
    "    article_name = entry[0]\n",
    "    cats_df = entry[1][\"category\"]\n",
    "    cats_list = cats_df.values.tolist()\n",
    "\n",
    "    indices = wiki_graph.index[wiki_graph[\"article\"] == article_name].tolist()\n",
    "    for i in indices:\n",
    "        wiki_graph.at[i, \"category\"] = cats_list\n",
    "\n",
    "groyped_links = links.groupby(\"article1\")\n",
    "for entry in groyped_links:\n",
    "    article_name = entry[0]\n",
    "    links_df = entry[1][\"article2\"]\n",
    "    links_list = links_df.values.tolist()\n",
    "\n",
    "    indices = wiki_graph.index[wiki_graph[\"article\"] == article_name].tolist()\n",
    "    for i in indices:\n",
    "        wiki_graph.at[i, \"links\"] = links_list\n",
    "        wiki_graph.at[i, \"links_count\"] = len(links_list)\n",
    "\n",
    "wiki_graph.tail()"
   ]
  },
  {
   "cell_type": "code",
   "execution_count": 44,
   "metadata": {},
   "outputs": [
    {
     "name": "stdout",
     "output_type": "stream",
     "text": [
      "True\n",
      "4604\n",
      "4604\n",
      "4\n",
      "RangeIndex(start=0, stop=4604, step=1)\n"
     ]
    }
   ],
   "source": [
    "print(wiki_graph[\"article\"].is_unique)\n",
    "print(len(wiki_graph))\n",
    "print(wiki_graph.shape[0])\n",
    "print(wiki_graph.shape[1])\n",
    "print(wiki_graph.index)"
   ]
  },
  {
   "cell_type": "code",
   "execution_count": 45,
   "metadata": {},
   "outputs": [
    {
     "data": {
      "text/html": [
       "<div>\n",
       "<style scoped>\n",
       "    .dataframe tbody tr th:only-of-type {\n",
       "        vertical-align: middle;\n",
       "    }\n",
       "\n",
       "    .dataframe tbody tr th {\n",
       "        vertical-align: top;\n",
       "    }\n",
       "\n",
       "    .dataframe thead th {\n",
       "        text-align: right;\n",
       "    }\n",
       "</style>\n",
       "<table border=\"1\" class=\"dataframe\">\n",
       "  <thead>\n",
       "    <tr style=\"text-align: right;\">\n",
       "      <th></th>\n",
       "      <th>start</th>\n",
       "      <th>path</th>\n",
       "      <th>target</th>\n",
       "      <th>failed</th>\n",
       "      <th>rating</th>\n",
       "      <th>type</th>\n",
       "      <th>hashedIpAddress</th>\n",
       "      <th>timestamp</th>\n",
       "      <th>durationInSec</th>\n",
       "    </tr>\n",
       "  </thead>\n",
       "  <tbody>\n",
       "  </tbody>\n",
       "</table>\n",
       "</div>"
      ],
      "text/plain": [
       "Empty DataFrame\n",
       "Columns: [start, path, target, failed, rating, type, hashedIpAddress, timestamp, durationInSec]\n",
       "Index: []"
      ]
     },
     "execution_count": 45,
     "metadata": {},
     "output_type": "execute_result"
    }
   ],
   "source": [
    "paths = pd.DataFrame(columns=[\"start\", \"path\", \"target\", \"failed\", \"rating\", \"type\", \"hashedIpAddress\", \"timestamp\", \"durationInSec\"])\n",
    "paths.head()"
   ]
  },
  {
   "cell_type": "code",
   "execution_count": null,
   "metadata": {},
   "outputs": [],
   "source": []
  },
  {
   "cell_type": "markdown",
   "metadata": {},
   "source": [
    "## Visualizations"
   ]
  },
  {
   "cell_type": "code",
   "execution_count": 54,
   "metadata": {},
   "outputs": [
    {
     "data": {
      "image/png": "[encoded data removed]",
      "text/plain": [
       "<Figure size 640x480 with 1 Axes>"
      ]
     },
     "metadata": {},
     "output_type": "display_data"
    }
   ],
   "source": [
    "links_counts = wiki_graph[\"links_count\"].values\n",
    "\n",
    "plt.hist(links_counts, bins=100)\n",
    "plt.title(\"Distribution of the total number of links per article\")\n",
    "plt.xlabel(\"Links\")\n",
    "plt.ylabel(\"Articles\")\n",
    "plt.show()"
   ]
  },
  {
   "cell_type": "code",
   "execution_count": 55,
   "metadata": {},
   "outputs": [
    {
     "name": "stdout",
     "output_type": "stream",
     "text": [
      "                                    article\n",
      "category                                   \n",
      "subject.Art.Art                          36\n",
      "subject.Art.Artists                       2\n",
      "subject.Business_Studies.Business        28\n",
      "subject.Business_Studies.Companies       18\n",
      "subject.Business_Studies.Currency        14\n"
     ]
    },
    {
     "data": {
      "image/png": "[encoded data removed]",
      "text/plain": [
       "<Figure size 640x480 with 1 Axes>"
      ]
     },
     "metadata": {},
     "output_type": "display_data"
    }
   ],
   "source": [
    "groups = categories.groupby(\"category\").count()\n",
    "\n",
    "print(groups.head())\n",
    "\n",
    "labels = list(groups.index)\n",
    "values = list(groups[\"article\"])\n",
    "\n",
    "X_axis = np.arange(len(labels))\n",
    "\n",
    "plt.rcParams[\"font.size\"] = \"3\"\n",
    "\n",
    "plt.xticks(rotation=90)\n",
    "# plt.xticks(X_axis, labels, labelsize=10)\n",
    "plt.bar(labels, values)\n",
    "plt.show()"
   ]
  },
  {
   "cell_type": "markdown",
   "metadata": {},
   "source": [
    "## NetworkX"
   ]
  },
  {
   "cell_type": "code",
   "execution_count": 56,
   "metadata": {},
   "outputs": [],
   "source": [
    "def sort_dict_by_value(dict):\n",
    "    return sorted(dict.items(), key=lambda x: x[1], reverse=True)\n"
   ]
  },
  {
   "cell_type": "code",
   "execution_count": 59,
   "metadata": {},
   "outputs": [
    {
     "name": "stdout",
     "output_type": "stream",
     "text": [
      "4592\n",
      "106647\n"
     ]
    },
    {
     "data": {
      "image/png": "[encoded data removed]",
      "text/plain": [
       "<Figure size 640x480 with 1 Axes>"
      ]
     },
     "metadata": {},
     "output_type": "display_data"
    }
   ],
   "source": [
    "G = nx.Graph()\n",
    "\n",
    "sampled_wiki_graph = wiki_graph#.sample(100, replace=False)\n",
    "\n",
    "for ind in sampled_wiki_graph.index:\n",
    "    node_name = wiki_graph[\"article\"][ind]\n",
    "    node_links = wiki_graph[\"links\"][ind]\n",
    "    for l in node_links:\n",
    "        G.add_edge(node_name, l)\n",
    "\n",
    "print(G.number_of_nodes())\n",
    "print(G.number_of_edges())\n",
    "\n",
    "nx.draw(G, with_labels=False, node_size=1)\n",
    "plt.draw()\n",
    "plt.savefig(\"wikispeedia_graph.pdf\")"
   ]
  },
  {
   "cell_type": "code",
   "execution_count": 60,
   "metadata": {},
   "outputs": [
    {
     "name": "stdout",
     "output_type": "stream",
     "text": [
      "United_States -> 0.0073487693403575405\n",
      "United_Kingdom -> 0.00458076938779606\n",
      "Europe -> 0.004353391538443455\n",
      "France -> 0.004157386167202908\n",
      "England -> 0.0036954152923990924\n",
      "Germany -> 0.0033470404654848645\n",
      "World_War_II -> 0.003344467147522731\n",
      "Scientific_classification -> 0.0028688381329989134\n",
      "London -> 0.0028377288959734394\n",
      "English_language -> 0.0027092009622877904\n"
     ]
    }
   ],
   "source": [
    "# graph analytics\n",
    "pagerankDict = nx.pagerank(G, alpha=0.9)\n",
    "\n",
    "topN = 10\n",
    "top_tuples = sort_dict_by_value(pagerankDict)[:topN]\n",
    "for (key,value) in top_tuples:\n",
    "    print(key,\"->\",value)"
   ]
  },
  {
   "cell_type": "code",
   "execution_count": 61,
   "metadata": {},
   "outputs": [
    {
     "data": {
      "text/plain": [
       "0.010117412723120603"
      ]
     },
     "execution_count": 61,
     "metadata": {},
     "output_type": "execute_result"
    }
   ],
   "source": [
    "nx.density(G)\n"
   ]
  }
 ],
 "metadata": {
  "kernelspec": {
   "display_name": "Python 3.10.8 64-bit",
   "language": "python",
   "name": "python3"
  },
  "language_info": {
   "codemirror_mode": {
    "name": "ipython",
    "version": 3
   },
   "file_extension": ".py",
   "mimetype": "text/x-python",
   "name": "python",
   "nbconvert_exporter": "python",
   "pygments_lexer": "ipython3",
   "version": "3.10.8"
  },
  "orig_nbformat": 4,
  "vscode": {
   "interpreter": {
    "hash": "b0fa6594d8f4cbf19f97940f81e996739fb7646882a419484c72d19e05852a7e"
   }
  }
 },
 "nbformat": 4,
 "nbformat_minor": 2
}
